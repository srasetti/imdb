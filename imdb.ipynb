{
 "cells": [
  {
   "cell_type": "markdown",
   "metadata": {
    "toc": true
   },
   "source": [
    "<h1>Table of Contents<span class=\"tocSkip\"></span></h1>\n",
    "<div class=\"toc\"><ul class=\"toc-item\"><li><span><a href=\"#Creation-of-Database\" data-toc-modified-id=\"Creation-of-Database-1\"><span class=\"toc-item-num\">1&nbsp;&nbsp;</span>Creation of Database</a></span></li><li><span><a href=\"#Creations-of-the-tables\" data-toc-modified-id=\"Creations-of-the-tables-2\"><span class=\"toc-item-num\">2&nbsp;&nbsp;</span>Creations of the tables</a></span><ul class=\"toc-item\"><li><span><a href=\"#Table-structure\" data-toc-modified-id=\"Table-structure-2.1\"><span class=\"toc-item-num\">2.1&nbsp;&nbsp;</span>Table structure</a></span></li><li><span><a href=\"#Table-basics\" data-toc-modified-id=\"Table-basics-2.2\"><span class=\"toc-item-num\">2.2&nbsp;&nbsp;</span>Table basics</a></span></li><li><span><a href=\"#table-ratings\" data-toc-modified-id=\"table-ratings-2.3\"><span class=\"toc-item-num\">2.3&nbsp;&nbsp;</span>table ratings</a></span></li><li><span><a href=\"#Inserting-the-data\" data-toc-modified-id=\"Inserting-the-data-2.4\"><span class=\"toc-item-num\">2.4&nbsp;&nbsp;</span>Inserting the data</a></span></li></ul></li><li><span><a href=\"#Playing-with-queries\" data-toc-modified-id=\"Playing-with-queries-3\"><span class=\"toc-item-num\">3&nbsp;&nbsp;</span>Playing with queries</a></span><ul class=\"toc-item\"><li><span><a href=\"#Function-to-ask-the-queries\" data-toc-modified-id=\"Function-to-ask-the-queries-3.1\"><span class=\"toc-item-num\">3.1&nbsp;&nbsp;</span>Function to ask the queries</a></span></li><li><span><a href=\"#Simple-queries\" data-toc-modified-id=\"Simple-queries-3.2\"><span class=\"toc-item-num\">3.2&nbsp;&nbsp;</span>Simple queries</a></span><ul class=\"toc-item\"><li><span><a href=\"#How-many-different-genre-combinations-are-there\" data-toc-modified-id=\"How-many-different-genre-combinations-are-there-3.2.1\"><span class=\"toc-item-num\">3.2.1&nbsp;&nbsp;</span>How many different genre combinations are there</a></span></li><li><span><a href=\"#What-percentage-of-movies-is-for-adults\" data-toc-modified-id=\"What-percentage-of-movies-is-for-adults-3.2.2\"><span class=\"toc-item-num\">3.2.2&nbsp;&nbsp;</span>What percentage of movies is for adults</a></span></li><li><span><a href=\"#Statistics-about-duration\" data-toc-modified-id=\"Statistics-about-duration-3.2.3\"><span class=\"toc-item-num\">3.2.3&nbsp;&nbsp;</span>Statistics about duration</a></span></li><li><span><a href=\"#Which-entry-is-this-damn-longest-movie?\" data-toc-modified-id=\"Which-entry-is-this-damn-longest-movie?-3.2.4\"><span class=\"toc-item-num\">3.2.4&nbsp;&nbsp;</span>Which entry is this damn longest movie?</a></span></li></ul></li></ul></li></ul></div>"
   ]
  },
  {
   "cell_type": "markdown",
   "metadata": {},
   "source": [
    "Personal project to practice with SQL request.\n",
    "\n",
    "Using 2 tsv files (the titles and the ratings) uploaded in a Database and then using various queries to gather details\n",
    "\n",
    "Information courtesy of\n",
    "IMDb\n",
    "(http://www.imdb.com).\n",
    "Used with permission."
   ]
  },
  {
   "cell_type": "code",
   "execution_count": 1,
   "metadata": {},
   "outputs": [],
   "source": [
    "import psycopg2\n",
    "\n",
    "from credentials import *"
   ]
  },
  {
   "cell_type": "markdown",
   "metadata": {},
   "source": [
    "Starting section 2, I realize I could improve the code by factoring the recurrent connection and closing to database, with the following class:"
   ]
  },
  {
   "cell_type": "code",
   "execution_count": 13,
   "metadata": {},
   "outputs": [],
   "source": [
    "class MyDB(object):\n",
    "\n",
    "    def __init__(self):\n",
    "        self._db_connection = psycopg2.connect(\n",
    "   database=\"postgres\", user=POSTGRESUSER, password=POSTGRESPWD, host='127.0.0.1', port= '5432'\n",
    ")\n",
    "        self.cursor = self._db_connection.cursor()\n",
    "\n",
    "    def __enter__(self):\n",
    "        return self\n",
    "    \n",
    "    def __del__(self):\n",
    "        self._db_connection.close()\n",
    "\n",
    "    def __exit__(self, exc_type, exc_val, exc_tb):\n",
    "        self.cursor.close()\n",
    "        self._db_connection.close()\n"
   ]
  },
  {
   "cell_type": "markdown",
   "metadata": {},
   "source": [
    "# Creation of Database"
   ]
  },
  {
   "cell_type": "code",
   "execution_count": 5,
   "metadata": {
    "collapsed": true
   },
   "outputs": [
    {
     "ename": "ActiveSqlTransaction",
     "evalue": "CREATE DATABASE cannot run inside a transaction block\n",
     "output_type": "error",
     "traceback": [
      "\u001b[0;31m---------------------------------------------------------------------------\u001b[0m",
      "\u001b[0;31mActiveSqlTransaction\u001b[0m                      Traceback (most recent call last)",
      "\u001b[0;32m<ipython-input-5-fa271299f886>\u001b[0m in \u001b[0;36m<module>\u001b[0;34m\u001b[0m\n\u001b[1;32m     11\u001b[0m \u001b[0;34m\u001b[0m\u001b[0m\n\u001b[1;32m     12\u001b[0m \u001b[0;31m#Creating a database\u001b[0m\u001b[0;34m\u001b[0m\u001b[0;34m\u001b[0m\u001b[0;34m\u001b[0m\u001b[0m\n\u001b[0;32m---> 13\u001b[0;31m \u001b[0mcursor\u001b[0m\u001b[0;34m.\u001b[0m\u001b[0mexecute\u001b[0m\u001b[0;34m(\u001b[0m\u001b[0msql\u001b[0m\u001b[0;34m)\u001b[0m\u001b[0;34m\u001b[0m\u001b[0;34m\u001b[0m\u001b[0m\n\u001b[0m\u001b[1;32m     14\u001b[0m \u001b[0mconn\u001b[0m\u001b[0;34m.\u001b[0m\u001b[0mcommit\u001b[0m\u001b[0;34m(\u001b[0m\u001b[0;34m)\u001b[0m\u001b[0;34m\u001b[0m\u001b[0;34m\u001b[0m\u001b[0m\n\u001b[1;32m     15\u001b[0m \u001b[0mprint\u001b[0m\u001b[0;34m(\u001b[0m\u001b[0;34m\"Database created successfully........\"\u001b[0m\u001b[0;34m)\u001b[0m\u001b[0;34m\u001b[0m\u001b[0;34m\u001b[0m\u001b[0m\n",
      "\u001b[0;31mActiveSqlTransaction\u001b[0m: CREATE DATABASE cannot run inside a transaction block\n"
     ]
    }
   ],
   "source": [
    "#establishing the connection\n",
    "conn = psycopg2.connect(\n",
    "   database=\"postgres\", user=POSTGRESUSER, password=POSTGRESPWD, host='127.0.0.1', port= '5432'\n",
    ")\n",
    "conn.autocommit = True\n",
    "\n",
    "#Creating a cursor object using the cursor() method\n",
    "cursor = conn.cursor()\n",
    "\n",
    "#Preparing query to create a database\n",
    "sql = '''CREATE database imdb''';\n",
    "\n",
    "#Creating a database\n",
    "cursor.execute(sql)\n",
    "print(\"Database created successfully........\")\n",
    "\n",
    "#Closing the connection\n",
    "conn.close()"
   ]
  },
  {
   "cell_type": "markdown",
   "metadata": {},
   "source": [
    "# Creations of the tables"
   ]
  },
  {
   "cell_type": "markdown",
   "metadata": {},
   "source": [
    "## Table structure"
   ]
  },
  {
   "cell_type": "markdown",
   "metadata": {},
   "source": [
    "Checking the structure from the tsv file, description also available from website: https://www.imdb.com/interfaces/"
   ]
  },
  {
   "cell_type": "code",
   "execution_count": 3,
   "metadata": {
    "scrolled": false
   },
   "outputs": [
    {
     "name": "stdout",
     "output_type": "stream",
     "text": [
      "tconst\ttitleType\tprimaryTitle\toriginalTitle\tisAdult\tstartYear\tendYear\truntimeMinutes\tgenres\r\n",
      "tt0000001\tshort\tCarmencita\tCarmencita\t0\t1894\t\\N\t1\tDocumentary,Short\r\n",
      "tt0000002\tshort\tLe clown et ses chiens\tLe clown et ses chiens\t0\t1892\t\\N\t5\tAnimation,Short\r\n"
     ]
    }
   ],
   "source": [
    "!head -3 data/title.basics.tsv"
   ]
  },
  {
   "cell_type": "code",
   "execution_count": 45,
   "metadata": {},
   "outputs": [
    {
     "name": "stdout",
     "output_type": "stream",
     "text": [
      "tconst\taverageRating\tnumVotes\r\n",
      "tt0000001\t5.7\t1690\r\n",
      "tt0000002\t6.0\t210\r\n"
     ]
    }
   ],
   "source": [
    "!head -3 data/title.ratings.tsv"
   ]
  },
  {
   "cell_type": "markdown",
   "metadata": {},
   "source": [
    "## Table basics"
   ]
  },
  {
   "cell_type": "code",
   "execution_count": 6,
   "metadata": {
    "collapsed": true
   },
   "outputs": [
    {
     "ename": "DuplicateTable",
     "evalue": "relation \"basics\" already exists\n",
     "output_type": "error",
     "traceback": [
      "\u001b[0;31m---------------------------------------------------------------------------\u001b[0m",
      "\u001b[0;31mDuplicateTable\u001b[0m                            Traceback (most recent call last)",
      "\u001b[0;32m<ipython-input-6-763cb43c6e14>\u001b[0m in \u001b[0;36m<module>\u001b[0;34m\u001b[0m\n\u001b[1;32m     23\u001b[0m \u001b[0;34m\u001b[0m\u001b[0m\n\u001b[1;32m     24\u001b[0m \u001b[0;31m#Creating a database\u001b[0m\u001b[0;34m\u001b[0m\u001b[0;34m\u001b[0m\u001b[0;34m\u001b[0m\u001b[0m\n\u001b[0;32m---> 25\u001b[0;31m \u001b[0mcursor\u001b[0m\u001b[0;34m.\u001b[0m\u001b[0mexecute\u001b[0m\u001b[0;34m(\u001b[0m\u001b[0msql\u001b[0m\u001b[0;34m)\u001b[0m\u001b[0;34m\u001b[0m\u001b[0;34m\u001b[0m\u001b[0m\n\u001b[0m\u001b[1;32m     26\u001b[0m \u001b[0;34m\u001b[0m\u001b[0m\n\u001b[1;32m     27\u001b[0m \u001b[0mconn\u001b[0m\u001b[0;34m.\u001b[0m\u001b[0mcommit\u001b[0m\u001b[0;34m(\u001b[0m\u001b[0;34m)\u001b[0m\u001b[0;34m\u001b[0m\u001b[0;34m\u001b[0m\u001b[0m\n",
      "\u001b[0;31mDuplicateTable\u001b[0m: relation \"basics\" already exists\n"
     ]
    }
   ],
   "source": [
    "#establishing the connection\n",
    "conn = psycopg2.connect(\n",
    "   database=\"postgres\", user=POSTGRESUSER, password=POSTGRESPWD, host='127.0.0.1', port= '5432'\n",
    ")\n",
    "\n",
    "\n",
    "#Creating a cursor object using the cursor() method\n",
    "cursor = conn.cursor()\n",
    "\n",
    "#Preparing query to create a database\n",
    "sql = '''CREATE TABLE basics(\n",
    "    tconst CHAR (9) PRIMARY KEY,\n",
    "    titleType TEXT,\n",
    "    primaryTitle TEXT,\n",
    "    originalTitle TEXT,\n",
    "    isAdult BOOLEAN,\n",
    "    startYear SMALLINT,\n",
    "    endYear SMALLINT,\n",
    "    runtimeMinutes SMALLINT,\n",
    "    genres TEXT\n",
    "    )        \n",
    "        ''';\n",
    "\n",
    "#Creating a database\n",
    "cursor.execute(sql)\n",
    "\n",
    "conn.commit()\n",
    "print(\"Table created successfully........\")\n",
    "\n",
    "#Closing the connection\n",
    "conn.close()"
   ]
  },
  {
   "cell_type": "markdown",
   "metadata": {},
   "source": [
    "Checking if table is created in DB and try the class at the same occasion"
   ]
  },
  {
   "cell_type": "code",
   "execution_count": 19,
   "metadata": {
    "scrolled": false
   },
   "outputs": [
    {
     "name": "stdout",
     "output_type": "stream",
     "text": [
      "[('basics',), ('ratings',)]\n"
     ]
    }
   ],
   "source": [
    "query = \"\"\"SELECT table_name\n",
    "  FROM information_schema.tables\n",
    " WHERE table_schema='public'\n",
    "   AND table_type='BASE TABLE';\"\"\"\n",
    "\n",
    "\n",
    "with MyDB() as my_db:\n",
    "    cursor = my_db.cursor\n",
    "    cursor.execute(query)\n",
    "    results = cursor.fetchall()\n",
    "    print(results)"
   ]
  },
  {
   "cell_type": "markdown",
   "metadata": {},
   "source": [
    "Adding a try / except block to catch errors"
   ]
  },
  {
   "cell_type": "code",
   "execution_count": 16,
   "metadata": {
    "collapsed": true
   },
   "outputs": [
    {
     "name": "stdout",
     "output_type": "stream",
     "text": [
      "The following error was raised:\n",
      "name 'sql' is not defined\n"
     ]
    }
   ],
   "source": [
    "with MyDB() as my_db:\n",
    "    try:\n",
    "        cursor = my_db.cursor\n",
    "        cursor.execute(sql)\n",
    "        my_db._db_connection.commit()\n",
    "    except Exception as err:\n",
    "        print(f\"The following error was raised:\\n{err}\")"
   ]
  },
  {
   "cell_type": "markdown",
   "metadata": {},
   "source": [
    "Fixing type for the column Primary key. Turns out some values have more that 9 characters, swithcing to a generic varchar"
   ]
  },
  {
   "cell_type": "code",
   "execution_count": 21,
   "metadata": {},
   "outputs": [],
   "source": [
    "fix_column_basics = \"\"\"ALTER TABLE basics\n",
    "ALTER COLUMN tconst\n",
    "TYPE VARCHAR\n",
    "\"\"\"\n",
    "\n",
    "\n",
    "with MyDB() as my_db:\n",
    "    try:\n",
    "        cursor = my_db.cursor\n",
    "        cursor.execute(fix_column_basics)\n",
    "        my_db._db_connection.commit()\n",
    "    except Exception as err:\n",
    "        print(f\"The following error was raised:\\n{err}\")"
   ]
  },
  {
   "cell_type": "markdown",
   "metadata": {},
   "source": [
    "Fixing type for the column runtime minutes as one entry is longer than a smallint. Turns out some values have more that 9 characters, swithcing to a generic varchar"
   ]
  },
  {
   "cell_type": "code",
   "execution_count": 27,
   "metadata": {},
   "outputs": [
    {
     "name": "stdout",
     "output_type": "stream",
     "text": [
      "column type changed\n"
     ]
    }
   ],
   "source": [
    "fix_column_basics_runtime = \"\"\"ALTER TABLE basics\n",
    "ALTER COLUMN runtimeMinutes\n",
    "TYPE INTEGER\n",
    "\"\"\"\n",
    "\n",
    "\n",
    "with MyDB() as my_db:\n",
    "    try:\n",
    "        cursor = my_db.cursor\n",
    "        cursor.execute(fix_column_basics_runtime)\n",
    "        my_db._db_connection.commit()\n",
    "        print(\"column type changed\")\n",
    "    except Exception as err:\n",
    "        print(f\"The following error was raised:\\n{err}\")"
   ]
  },
  {
   "cell_type": "markdown",
   "metadata": {},
   "source": [
    "## table ratings"
   ]
  },
  {
   "cell_type": "code",
   "execution_count": 18,
   "metadata": {},
   "outputs": [],
   "source": [
    "query_table_ratings = '''CREATE TABLE ratings(\n",
    "    tconst CHAR (9) PRIMARY KEY,\n",
    "    averageRating NUMERIC (3,1),\n",
    "    numVotes INTEGER\n",
    "    );        \n",
    "        '''\n",
    "\n",
    "with MyDB() as my_db:\n",
    "    try:\n",
    "        cursor = my_db.cursor\n",
    "        cursor.execute(query_table_ratings)\n",
    "        my_db._db_connection.commit()\n",
    "    except Exception as err:\n",
    "        print(f\"The following error was raised:\\n{err}\")"
   ]
  },
  {
   "cell_type": "markdown",
   "metadata": {},
   "source": [
    "Fixing type for the column Primary key. Turns out some values have more that 9 characters, swithcing to a generic varchar"
   ]
  },
  {
   "cell_type": "code",
   "execution_count": 22,
   "metadata": {},
   "outputs": [
    {
     "name": "stdout",
     "output_type": "stream",
     "text": [
      "Operation done\n"
     ]
    }
   ],
   "source": [
    "fix_column_basics = \"\"\"ALTER TABLE ratings\n",
    "ALTER COLUMN tconst\n",
    "TYPE VARCHAR\n",
    "\"\"\"\n",
    "\n",
    "\n",
    "with MyDB() as my_db:\n",
    "    try:\n",
    "        cursor = my_db.cursor\n",
    "        cursor.execute(fix_column_basics)\n",
    "        my_db._db_connection.commit()\n",
    "        print(\"Operation done\")\n",
    "    except Exception as err:\n",
    "        print(f\"The following error was raised:\\n{err}\")"
   ]
  },
  {
   "cell_type": "markdown",
   "metadata": {},
   "source": [
    "## Inserting the data"
   ]
  },
  {
   "cell_type": "code",
   "execution_count": 23,
   "metadata": {
    "scrolled": true
   },
   "outputs": [],
   "source": [
    "with MyDB() as my_db:\n",
    "    try:\n",
    "        cursor = my_db.cursor\n",
    "        with open('data/title.ratings.tsv', 'r') as f:\n",
    "            next(f) # Skip the header row.\n",
    "            cursor.copy_from(f, 'ratings', sep='\\t')\n",
    "        my_db._db_connection.commit()\n",
    "    except Exception as err:\n",
    "        print(f\"The following error was raised:\\n{err}\")"
   ]
  },
  {
   "cell_type": "code",
   "execution_count": 28,
   "metadata": {},
   "outputs": [
    {
     "name": "stdout",
     "output_type": "stream",
     "text": [
      "Data imported\n"
     ]
    }
   ],
   "source": [
    "with MyDB() as my_db:\n",
    "    try:\n",
    "        cursor = my_db.cursor\n",
    "        with open('data/title.basics.tsv', 'r') as f:\n",
    "            next(f) # Skip the header row.\n",
    "            cursor.copy_from(f, 'basics', sep='\\t')\n",
    "        my_db._db_connection.commit()\n",
    "        print(\"Data imported\")\n",
    "    except Exception as err:\n",
    "        print(f\"The following error was raised:\\n{err}\")"
   ]
  },
  {
   "cell_type": "markdown",
   "metadata": {},
   "source": [
    "# Playing with queries"
   ]
  },
  {
   "cell_type": "markdown",
   "metadata": {},
   "source": [
    "## Function to ask the queries"
   ]
  },
  {
   "cell_type": "code",
   "execution_count": 59,
   "metadata": {},
   "outputs": [],
   "source": [
    "def askdb(query,output=1):\n",
    "    with MyDB() as my_db:\n",
    "        try:\n",
    "            cursor = my_db.cursor\n",
    "            cursor.execute(query)\n",
    "            if output == 1 :\n",
    "                #When asking one single value\n",
    "                result = cursor.fetchone()[0]\n",
    "            elif output == \"row\":\n",
    "                #Asking for several values but on a single row result\n",
    "                result = cursor.fetchone()\n",
    "            else:\n",
    "                #When many lines are expected\n",
    "                result = [r[0] for r in cursor.fetchall()]\n",
    "            return result\n",
    "        except Exception as err:\n",
    "            print(f\"The following error was raised:\\n{err}\")"
   ]
  },
  {
   "cell_type": "markdown",
   "metadata": {},
   "source": [
    "Testing default setting with one answer expected"
   ]
  },
  {
   "cell_type": "code",
   "execution_count": 38,
   "metadata": {},
   "outputs": [
    {
     "name": "stdout",
     "output_type": "stream",
     "text": [
      "1132236\n"
     ]
    }
   ],
   "source": [
    "sql = \"Select COUNT(*) from ratings\"\n",
    " \n",
    "answer = askdb(sql)\n",
    "print(answer)"
   ]
  },
  {
   "cell_type": "markdown",
   "metadata": {},
   "source": [
    "Testing with multiple answers expected"
   ]
  },
  {
   "cell_type": "code",
   "execution_count": 44,
   "metadata": {
    "scrolled": false
   },
   "outputs": [
    {
     "name": "stdout",
     "output_type": "stream",
     "text": [
      "[1959, 1907, 2021, 1964, 1969, None, 1889, 1991, 1989, 1974, 1977, 1971, 1935, 1898, 2022, 2017, 1983, 1899, 1891, 2009, 1958, 1973, 2013, 2003, 1933, 1953, 1903, 1892, 1912, 1997, 1905, 1883, 1897, 1894, 2016, 2018, 1874, 1994, 1963, 2014, 1928, 2025, 1924, 1987, 1878, 2000, 1948, 1932, 1985, 1908, 1941, 2115, 1947, 1938, 1925, 1911, 1895, 1906, 1960, 1951, 1915, 1981, 1966, 1916, 1978, 1968, 1944, 2006, 2020, 1962, 1926, 1923, 2012, 1954, 2024, 1988, 1896, 2008, 1945, 1943, 1956, 1940, 1890, 2028, 1984, 1934, 2005, 1913, 1885, 1914, 1904, 2015, 1990, 1930, 1993, 2002, 1979, 2026, 2004, 1980, 1919, 1922, 1975, 1986, 1970, 1921, 1936, 1982, 1901, 1942, 1995, 1992, 2023, 1920, 2010, 1887, 1939, 2019, 1996, 1931, 1967, 2027, 2011, 1965, 1909, 1949, 1881, 1888, 1918, 1946, 1917, 1998, 1976, 1972, 2007, 1929, 1927, 1902, 1961, 1952, 2001, 1893, 1910, 1999, 1950, 1955, 1957, 1937, 1900]\n"
     ]
    }
   ],
   "source": [
    "sql = \"Select DISTINCT (startYear) from basics\"\n",
    " \n",
    "answer = askdb(sql,\"many\")\n",
    "print(answer)"
   ]
  },
  {
   "cell_type": "markdown",
   "metadata": {},
   "source": [
    "## Simple queries"
   ]
  },
  {
   "cell_type": "markdown",
   "metadata": {},
   "source": [
    "### How many different genre combinations are there"
   ]
  },
  {
   "cell_type": "code",
   "execution_count": 50,
   "metadata": {
    "scrolled": true
   },
   "outputs": [
    {
     "name": "stdout",
     "output_type": "stream",
     "text": [
      "There is a total of 2276 types of genres indicated. Here is the complete list:\n",
      "[None, 'Comedy,Drama,News', 'Crime,Talk-Show', 'Action,Adult,Thriller', 'Action,Crime,Sport', 'Mystery,Romance,Thriller', 'Drama,Sci-Fi,Thriller', 'Comedy,Crime,Film-Noir', 'News,Reality-TV,Talk-Show', 'Action,Adult,Sci-Fi', 'Action,Biography,War', 'Fantasy,Musical,Thriller', 'Fantasy,History,News', 'Animation,Comedy,Thriller', 'Animation,Drama,News', 'Documentary,Music,Musical', 'Biography,Music,News', 'Action,Fantasy,Talk-Show', 'Documentary,Family,Mystery', 'Adult,Romance,Sport', 'Documentary,Fantasy,Mystery', 'Animation,Comedy,Horror', 'Animation,Family,Musical', 'Animation,Biography,Comedy', 'Crime,Mystery,Reality-TV', 'Horror,Romance,Western', 'Animation,Comedy,News', 'Fantasy,Mystery,Thriller', 'Biography,Comedy,War', 'Game-Show,Musical,Romance', 'History,Music', 'Drama,Reality-TV,Thriller', 'Biography,Crime,Western', 'Family,News,Sport', 'Documentary,News', 'Family,Musical,Western', 'Fantasy,Music,Musical', 'Comedy,Documentary,Reality-TV', 'Action,Family,Short', 'Drama,Family,Horror', 'News,Short,War', 'Biography,Drama,Thriller', 'Game-Show,Reality-TV,Sport', 'Documentary,Fantasy,Musical', 'Adventure,News,Reality-TV', 'Horror,Romance,Thriller', 'Adult,Adventure,Mystery', 'Adult,Comedy,Music', 'Drama,Film-Noir,Music', 'Mystery,News,Talk-Show', 'Adventure,Comedy,Music', 'Adventure,Drama,Reality-TV', 'Drama,Music,Mystery', 'Animation,Drama,Horror', 'Fantasy,Romance', 'Biography,Romance,Short', 'Adult,Romance,Thriller', 'Crime,Family,Music', 'Short,Thriller,Western', 'Horror,Musical', 'Comedy,Romance,Thriller', 'Short,War', 'Adventure,History,Music', 'Biography,Short', 'Crime,Family,Thriller', 'Drama,Horror', 'News,Romance,Short', 'History,Music,Sport', 'Comedy,Drama,Game-Show', 'Adult,Adventure,Romance', 'Adventure,Animation,Sci-Fi', 'Comedy,Romance,Sport', 'Animation,History,Mystery', 'Adventure,Fantasy', 'Crime,Game-Show,Thriller', 'Crime,Mystery', 'Family,News,Reality-TV', 'Comedy,Game-Show,Sci-Fi', 'Reality-TV,Sport', 'Horror,Music,News', 'History,Horror,Thriller', 'Drama,Thriller', 'Family,Sport', 'Family,Short,Sport', 'Music,Musical,News', 'Biography,Romance', 'Adult,Mystery', 'Animation,Comedy,Family', 'Adventure,Sci-Fi,Thriller', 'Family,Short,Western', 'War', 'Crime,Documentary,War', 'Adventure,Crime,Thriller', 'Biography,Talk-Show', 'Documentary,History,Western', 'Crime,Romance,Sci-Fi', 'Action,Adult,Western', 'Action,Biography,Documentary', 'Action,Adventure,War', 'Adult,Drama,Fantasy', 'Fantasy,History,Musical', 'Comedy,Short,Western', 'Documentary,News,Romance', 'Action,Comedy,Crime', 'Drama,Romance', 'Documentary,Drama,Reality-TV', 'Drama,Musical,Romance', 'Adventure,Animation,Romance', 'Horror,Reality-TV,Sci-Fi', 'Action,Drama,Short', 'Adventure,Animation,News', 'Animation,Drama,History', 'Reality-TV,Short', 'Documentary,Short,Sport', 'Film-Noir,Mystery,Romance', 'Horror,Musical,Romance', 'Biography,Family,Sport', 'Comedy,Reality-TV,Talk-Show', 'Comedy,Family,War', 'Drama,Horror,Music', 'Game-Show,Musical,Reality-TV', 'Action,Mystery,War', 'Documentary,Romance,Sport', 'Music,News,Sport', 'Comedy,Sci-Fi,Sport', 'Adventure,Musical', 'Drama,Music,Musical', 'Documentary,Musical,Short', 'Comedy,Documentary,Mystery', 'History,Mystery,Reality-TV', 'Action,Game-Show,History', 'Action,Game-Show,Sci-Fi', 'Adult,Short,Thriller', 'Comedy,Sci-Fi,Talk-Show', 'Documentary,Mystery', 'Crime,Music,Romance', 'Action,Comedy', 'Animation,Documentary,Family', 'Comedy,Musical,Talk-Show', 'Biography,Crime,Film-Noir', 'Animation,Drama,Romance', 'Adventure,War', 'Sci-Fi,Short,Talk-Show', 'Fantasy,Thriller', 'History,Musical,Romance', 'Comedy,Reality-TV,Sci-Fi', 'News,Reality-TV,Romance', 'Animation,Game-Show,Talk-Show', 'Film-Noir,Mystery,Thriller', 'Comedy,Horror,Short', 'Horror,Sci-Fi,Short', 'Romance,Short,War', 'Biography,Fantasy,Musical', 'History,Romance,Short', 'Drama,Horror,Western', 'Music,Romance,Talk-Show', 'Action,Horror,Music', 'Adventure,Short,War', 'Animation,Documentary,Mystery', 'Adult,Animation,Thriller', 'Action,Adult,Animation', 'Crime,News,Thriller', 'Game-Show,Music,Reality-TV', 'Comedy,Musical,Sport', 'Biography,Comedy,Horror', 'Adventure,Family,Short', 'Comedy,Drama,Horror', 'Adventure,Comedy,Horror', 'Family,Western', 'Action,Fantasy,Sci-Fi', 'Family,Musical,News', 'Adventure,Mystery,Reality-TV', 'Music,Reality-TV', 'Short,Talk-Show', 'Biography,Documentary,Drama', 'Biography,Family,Romance', 'Drama,Music,Reality-TV', 'Documentary,History,War', 'Comedy,Family,Sci-Fi', 'Music,Short', 'Horror,Sport,Thriller', 'Adventure,Short,Sport', 'Adult,Comedy,Short', 'Animation,Musical,Romance', 'Action,Sport,Thriller', 'Crime,Horror,Short', 'Action,Documentary,Thriller', 'Action,History,Sci-Fi', 'Biography,Musical,Short', 'Drama,Mystery,Reality-TV', 'Music,Sport,Talk-Show', 'Animation,Family,Short', 'History,Horror', 'Crime,Sport', 'Documentary,Fantasy,Music', 'Animation,Biography,Fantasy', 'Adult,History', 'Action,History,Musical', 'Adventure,News,Talk-Show', 'Comedy,Family,Music', 'Action,History,Thriller', 'Comedy,Musical,Mystery', 'Game-Show,Mystery', 'Adult,Horror,Sci-Fi', 'Biography,Documentary,Mystery', 'Action,News', 'Documentary,Reality-TV,Talk-Show', 'Sport,Western', 'Adult,Adventure,Crime', 'Comedy,Drama,Western', 'Family,Mystery,Short', 'Animation,News,Short', 'Documentary,History,Musical', 'Documentary,Family', 'Adult,Comedy,Thriller', 'Music,Reality-TV,Romance', 'Fantasy,Music,Short', 'Music,Thriller', 'Action,Mystery', 'Documentary,News,Western', 'Adventure,Animation,Comedy', 'Horror,Short,War', 'Mystery,Romance,Short', 'Action,Crime,Short', 'Action,Reality-TV', 'Animation,Drama,Thriller', 'Action,Horror,Thriller', 'Comedy,Family,Mystery', 'Biography,Family,News', 'Biography,Crime,Romance', 'Action,Adventure,Reality-TV', 'Biography,Comedy,Crime', 'Crime,Documentary,Western', 'Adventure,Romance,Thriller', 'Drama,Horror,Sci-Fi', 'Adult,Crime', 'Drama,Mystery,Sport', 'Adventure,Animation,Short', 'Action,War,Western', 'Game-Show,Sport,Western', 'History,Short', 'Comedy,Reality-TV,Short', 'Animation,Horror,Mystery', 'History,Short,Thriller', 'Comedy,Drama,Family', 'Comedy,Documentary,Talk-Show', 'Game-Show,Music,Sport', 'Crime,Drama,Family', 'Biography,Mystery', 'Comedy,Fantasy,Game-Show', 'Documentary,Horror,Mystery', 'Action,Fantasy,Game-Show', 'Action,Family,Horror', 'Adult,Comedy,Western', 'Fantasy,History,Mystery', 'Comedy,Short,War', 'Comedy,Music,Romance', 'Fantasy,Mystery,News', 'Biography,Comedy,Sport', 'Animation,Biography,Music', 'Biography,Horror,Mystery', 'Drama,Short,Sport', 'Horror,Mystery,Sport', 'Documentary,History,Short', 'Biography,Crime,Sport', 'Music,Short,Talk-Show', 'Adventure,Comedy,Crime', 'Adventure,Reality-TV,Talk-Show', 'Adult,Animation', 'History,Short,Western', 'Action,Comedy,Talk-Show', 'Comedy,History,Musical', 'Musical,Reality-TV,Sport', 'Adventure,Drama', 'Biography,Documentary,Sci-Fi', 'Crime,Mystery,Romance', 'Family,Talk-Show,Thriller', 'Comedy,Drama,Musical', 'Biography,Documentary,Reality-TV', 'History,Thriller,War', 'Crime,Documentary,Music', 'Horror,Short,Thriller', 'Adult,Documentary', 'Adult,Romance,War', 'Action,Adventure,Animation', 'Biography,Mystery,Short', 'Crime,Mystery,Sci-Fi', 'Adult,Fantasy,Sci-Fi', 'Fantasy,History,War', 'History,News,Short', 'Drama,Sci-Fi,War', 'Adult,Fantasy,Short', 'Drama,Music,Thriller', 'Action,Biography,Music', 'Comedy,Drama,Sci-Fi', 'Action,Animation,Biography', 'Adventure,Animation,History', 'Action,Game-Show,Sport', 'Adult,Mystery,Short', 'Biography,Short,Sport', 'Comedy,Romance,Short', 'Crime,History', 'Crime,Music,News', 'Family,Musical,Romance', 'Action,Romance,Short', 'Comedy,History,News', 'Family,Fantasy,Romance', 'Reality-TV,Short,Talk-Show', 'Adventure,Documentary,War', 'Adventure,Family,Thriller', 'Action,Crime,War', 'Animation,Music,Sci-Fi', 'Fantasy,Musical,Romance', 'Fantasy,Music,Mystery', 'Action,Biography,Thriller', 'Drama,Game-Show,Mystery', 'Animation,Documentary,Thriller', 'Action,Adult,Romance', 'History,Short,War', 'Music,Mystery,Romance', 'Adventure,Reality-TV,Thriller', 'Crime,Horror,Musical', 'Family,Musical,Mystery', 'Action,Drama,Horror', 'Family,Romance,Sport', 'Crime,Drama,History', 'Mystery,Short,War', 'Comedy,Sport', 'Adult,Animation,Talk-Show', 'Drama,Horror,Musical', 'Action,Biography,Mystery', 'Adventure,Short,Western', 'Comedy,Documentary,News', 'Family,History,Mystery', 'Family,Music,Romance', 'Action,Documentary,History', 'Fantasy,Horror,Western', 'Reality-TV,Talk-Show', 'Adult,Comedy,Musical', 'Adventure,Crime,Drama', 'Comedy,Horror,Mystery', 'Action,Sci-Fi,Sport', 'Family,Fantasy,Musical', 'Crime,Mystery,Western', 'Mystery,Romance,Sport', 'Family,Horror,Thriller', 'History,Mystery,War', 'Family,Fantasy,Game-Show', 'Adventure,Biography,History', 'History,Music,War', 'Biography,Family,Music', 'Adult', 'Adventure,Game-Show,Mystery', 'Short,Sport,Thriller', 'Family,Game-Show,Mystery', 'Family,Game-Show,Music', 'Drama,Fantasy,Romance', 'Action,Adventure,Sport', 'Adventure,Documentary,History', 'Adventure,Mystery', 'Drama,Family,Talk-Show', 'Comedy,History,Thriller', 'Fantasy', 'Crime,History,Sport', 'Documentary,Fantasy,Thriller', 'Documentary,History,Music', 'Comedy,Horror,Musical', 'Musical,Sport,Talk-Show', 'News,Talk-Show,War', 'Romance,War', 'Animation,Documentary,Music', 'Fantasy,Short', 'Drama,Reality-TV,Sport', 'Crime,Film-Noir,Romance', 'Adventure,Musical,War', 'Crime,Music,Short', 'Family,Fantasy,Sport', 'Horror,News,Talk-Show', 'Music,Musical,Sport', 'Comedy,Romance,War', 'History,Reality-TV,Talk-Show', 'News,Sport,War', 'Comedy,Musical,Thriller', 'Fantasy,Thriller,War', 'Adventure,News,Short', 'History,News,Talk-Show', 'Action,Fantasy,Short', 'News', 'Game-Show,News,Talk-Show', 'Crime,Reality-TV', 'Action,Biography,Western', 'Drama,Short,Thriller', 'Biography,Fantasy,Horror', 'History,Sport,War', 'Music,Musical,Mystery', 'Crime,Western', 'Comedy,History,Sci-Fi', 'Documentary,Reality-TV,Romance', 'Comedy,Crime,Western', 'Drama,History,Short', 'Crime,Music,Western', 'Fantasy,Sci-Fi,Talk-Show', 'Animation,Fantasy,Sport', 'Sport,Talk-Show', 'Action,Animation,War', 'Drama,Horror,Short', 'Action,Adventure,Game-Show', 'Adventure,Horror,Mystery', 'Adult,Adventure,Animation', 'Biography,Documentary,Romance', 'Biography,Documentary,Family', 'Adventure,Crime,History', 'Action,Adventure,Music', 'Sci-Fi,Western', 'Animation,Crime,History', 'Mystery,Reality-TV,Talk-Show', 'Documentary,Reality-TV,War', 'Drama,War', 'Sci-Fi,Thriller', 'Animation,Drama,Family', 'Drama,Fantasy,Short', 'Action,Game-Show', 'Animation,Crime,Mystery', 'Adventure,Documentary,Musical', 'Documentary,Horror,Music', 'Documentary,Sport,Talk-Show', 'Adventure,Animation', 'Drama,Mystery,Romance', 'Crime,Documentary,Fantasy', 'Adult,Adventure,Drama', 'Crime,Drama,Film-Noir', 'Action,Sci-Fi,Western', 'Adult,Horror,Mystery', 'Talk-Show', 'Comedy,Music,News', 'Biography,Western', 'Comedy,Game-Show,Short', 'Fantasy,Reality-TV', 'Fantasy,Horror,Sci-Fi', 'Game-Show', 'Biography,Music,Short', 'Drama,Sci-Fi,Sport', 'Film-Noir', 'Comedy,Drama,Fantasy', 'Comedy,Romance,Talk-Show', 'Adult,Documentary,History', 'Action,Comedy,Documentary', 'Adult,Adventure,Horror', 'Romance,Short,Talk-Show', 'Game-Show,Reality-TV,Thriller', 'Adult,Animation,Sci-Fi', 'Adult,Musical,Short', 'Biography,Drama,War', 'Adventure,Animation,Documentary', 'Music,Western', 'Fantasy,Horror,Mystery', 'Animation,Fantasy,Reality-TV', 'Documentary,Reality-TV,Short', 'Adventure', 'Biography,Music', 'Documentary,Short,War', 'Documentary,Mystery,Sport', 'Music,Reality-TV,Sport', 'Animation,Biography,Crime', 'Mystery,Sci-Fi,Short', 'Biography,Documentary', 'Family,Game-Show,History', 'Family,History,Sport', 'Short,War,Western', 'Comedy,Game-Show,History', 'Biography,Musical,Mystery', 'History,Horror,Music', 'Comedy,Reality-TV,Thriller', 'Documentary,War', 'Animation,Musical', 'Adventure,Horror', 'Musical,Short,Thriller', 'Animation,Romance,Sci-Fi', 'Drama,Romance,Sport', 'Documentary,Musical,Sci-Fi', 'Comedy,Mystery,Sci-Fi', 'Action,Fantasy,Horror', 'Documentary,Music,Reality-TV', 'Game-Show,Short,Sport', 'Adult,Comedy', 'Short,Western', 'Fantasy,Sci-Fi,Sport', 'Animation,Documentary,Sci-Fi', 'Adventure,History,Horror', 'Music,News', 'Adventure,Drama,Thriller', 'Action,Reality-TV,Short', 'Action,Adventure,Family', 'Animation,Western', 'Musical,Romance,Short', 'Action,Crime,History', 'Animation,News', 'Animation,Crime,Short', 'Comedy,Game-Show,Sport', 'History,War,Western', 'Adventure,Fantasy,Western', 'Documentary,Drama,War', 'Crime,Documentary,Reality-TV', 'Crime,Drama,Mystery', 'Comedy,Drama,Talk-Show', 'Family,Musical,Reality-TV', 'Comedy,Family,Thriller', 'Action,Biography,History', 'Documentary', 'Drama,Mystery,Short', 'Crime,Horror', 'Adventure,Animation,Sport', 'Crime,Mystery,Thriller', 'Comedy,Horror,Romance', 'Adult,Horror', 'Comedy,Crime,Thriller', 'Biography,Documentary,Horror', 'Drama,Film-Noir,Sport', 'Crime,Game-Show,Reality-TV', 'Family,Game-Show,Reality-TV', 'Adult,War', 'Action,Short,Western', 'Action,History,Romance', 'Adventure,Comedy,News', 'Action,Drama,Musical', 'Comedy,Sci-Fi', 'Animation,Family,Talk-Show', 'Documentary,Drama,Mystery', 'Adventure,Family,History', 'Animation,Music,Short', 'Musical,Short,Western', 'Adult,Animation,Short', 'Adventure,Documentary,Sci-Fi', 'Biography,Drama,Film-Noir', 'Action,Comedy,News', 'Family,Music,Short', 'Horror,Sport', 'Biography,Musical,Romance', 'Comedy,Fantasy,Talk-Show', 'Fantasy,Romance,War', 'Drama,Game-Show,Sport', 'Comedy,News,Short', 'Comedy,War', 'Action,Mystery,Sci-Fi', 'Comedy,History,Talk-Show', 'Adventure,Documentary,Short', 'Adventure,Comedy', 'Biography,History,Sci-Fi', 'Crime,Drama,War', 'Crime,Drama,Romance', 'Adventure,History,Mystery', 'Crime,History,Musical', 'Comedy,Fantasy,News', 'Action,Romance,Sport', 'Biography,Comedy,Game-Show', 'Drama,News,Thriller', 'Drama,Reality-TV,War', 'Adventure,Musical,Short', 'Family,Romance', 'Animation,Crime,Fantasy', 'Family,Mystery,News', 'Drama,Family,Short', 'Comedy,Horror,Talk-Show', 'Documentary,Fantasy,Romance', 'Music,Short,Sport', 'Adult,Comedy,Game-Show', 'Action,Crime,Reality-TV', 'Biography,History,Romance', 'Musical,Sport', 'Action,Biography,Fantasy', 'Adult,Animation,Documentary', 'Adult,Reality-TV,Short', 'Biography,Comedy,Musical', 'Animation,Comedy,War', 'Game-Show,News,Sport', 'Adult,Romance,Western', 'Adult,Biography', 'Comedy,Game-Show,Reality-TV', 'Action,Adult,Comedy', 'Animation,Documentary,Short', 'Adventure,Biography,Drama', 'Adventure,Fantasy,Mystery', 'Fantasy,History,Music', 'Comedy,News,Reality-TV', 'Crime,Drama,Horror', 'Comedy,History', 'Biography,Drama,Music', 'Drama,Mystery,Western', 'Action,Romance,Western', 'Sci-Fi,Talk-Show', 'Adult,Horror,Thriller', 'Animation,Biography,Sci-Fi', 'Documentary,Sport,Western', 'Music,Musical,Thriller', 'Adventure,Family,Musical', 'Biography,Family,Mystery', 'Sci-Fi,Short,Sport', 'Family,Fantasy,Western', 'Crime,Musical,Short', 'Music,Romance,Thriller', 'Adult,Adventure,Sci-Fi', 'Comedy,Crime,Drama', 'Adult,Biography,Comedy', 'Reality-TV,Sport,Talk-Show', 'Action,Biography,Romance', 'Crime,Drama,Game-Show', 'Crime,Sci-Fi,War', 'Comedy,Drama,Mystery', 'Animation,Horror,War', 'Family,Fantasy,War', 'Crime,Documentary,Talk-Show', 'Adventure,Mystery,Talk-Show', 'Drama,Family,Sport', 'Adventure,Family,Game-Show', 'Adventure,Horror,War', 'Adult,Drama,Sci-Fi', 'Family,History,Reality-TV', 'Documentary,Horror,Reality-TV', 'Adult,Fantasy,History', 'Musical', 'History,Horror,News', 'Musical,Mystery,Romance', 'Documentary,History,Horror', 'Adventure,Crime,Fantasy', 'Animation,Sci-Fi,Sport', 'News,Short,Western', 'Documentary,Musical', 'Adventure,Comedy,History', 'Drama,Fantasy,Thriller', 'Documentary,Reality-TV,Sport', 'History,Horror,Musical', 'Action,Adventure,Talk-Show', 'Adventure,Comedy,Talk-Show', 'Adult,Comedy,Reality-TV', 'Comedy,Family,Reality-TV', 'Drama,Musical,War', 'Biography,Documentary,Music', 'Adult,Documentary,Short', 'Action,Animation,Horror', 'Adult,Animation,Mystery', 'Action,Fantasy,Musical', 'Crime,Family,Romance', 'Adventure,Horror,Music', 'Adult,Comedy,Romance', 'Adventure,Crime', 'Adventure,Comedy,Western', 'Horror,Thriller,Western', 'Fantasy,Sci-Fi', 'Family,Musical', 'Biography,Romance,War', 'Animation,Horror,Short', 'History,Sport,Thriller', 'Family,Music,Talk-Show', 'Animation,Comedy,Talk-Show', 'Action,Drama,Film-Noir', 'Documentary,Drama,News', 'Comedy,Documentary,Sci-Fi', 'Adventure,Mystery,Western', 'Action,Adventure,News', 'Adventure,Family,Mystery', 'Music,Talk-Show', 'Drama,News,War', 'Family,Mystery', 'Drama,History,Horror', 'Adventure,Horror,Sci-Fi', 'News,Reality-TV,Sport', 'Family,Game-Show,Musical', 'Short,Sport,Western', 'Fantasy,Horror,Thriller', 'Musical,Sci-Fi,Thriller', 'Documentary,Family,Romance', 'Reality-TV,Romance', 'Documentary,Music,Thriller', 'Action,Crime,Musical', 'Documentary,Music,Sci-Fi', 'Film-Noir,Horror,Mystery', 'Comedy,Horror,Thriller', 'Biography,Family,Sci-Fi', 'Adventure,Reality-TV,Sport', 'Animation,Horror,News', 'Documentary,Game-Show,News', 'Romance,Sport', 'Crime,Film-Noir,Thriller', 'Crime,News', 'Action,Fantasy,Reality-TV', 'Drama,Musical', 'Action,Mystery,Thriller', 'Adult,Short,Sport', 'Music,Short,Western', 'Action,History,Short', 'Animation,Documentary', 'Action,Western', 'Romance,Thriller,Western', 'Action,Music,Sci-Fi', 'Adventure,History,Musical', 'Crime,Drama,Thriller', 'Horror,Sci-Fi,War', 'Biography,Horror,Thriller', 'Biography,Comedy,Fantasy', 'Fantasy,Game-Show,Reality-TV', 'Action,Music,Thriller', 'Mystery,Thriller,War', 'Drama,History,Sport', 'Biography,Fantasy,Sci-Fi', 'Animation,Documentary,News', 'Documentary,Reality-TV,Thriller', 'Drama,History,News', 'Drama,News,Talk-Show', 'Crime,Documentary,Musical', 'Crime,Fantasy,War', 'Documentary,Drama,Sport', 'Animation,History,Sci-Fi', 'Adventure,Fantasy,Sport', 'Comedy,Talk-Show', 'History,Music,Talk-Show', 'Animation,Mystery,Sci-Fi', 'Adult,Biography,Documentary', 'Adventure,Documentary,Mystery', 'Action,Music,Mystery', 'Comedy,Family,Sport', 'Comedy,Game-Show,Talk-Show', 'Crime,History,War', 'History,Romance,Western', 'Drama,Talk-Show,War', 'Fantasy,War', 'Adventure,Comedy,Family', 'Drama,Fantasy,News', 'Biography,Crime,Reality-TV', 'Adventure,History,Sci-Fi', 'Drama,Music,Romance', 'Action,News,Sci-Fi', 'Comedy,Drama,Short', 'Crime,Reality-TV,Talk-Show', 'Crime,Reality-TV,Thriller', 'History,Horror,War', 'Fantasy,Short,War', 'Action,Comedy,Sci-Fi', 'Documentary,Sport,War', 'Comedy,Thriller,War', 'Adult,Romance,Sci-Fi', 'Crime,History,Reality-TV', 'Documentary,Family,Game-Show', 'Family,Horror,Music', 'Romance', 'Documentary,History,Mystery', 'Adventure,Music,Musical', 'Adventure,History,Western', 'Mystery,Thriller,Western', 'Biography,History,Mystery', 'History,Sci-Fi,Thriller', 'Action,Adventure,Sci-Fi', 'Animation,Music,News', 'Adventure,Film-Noir,Romance', 'Family', 'Documentary,Drama,Horror', 'Family,Music,Mystery', 'Comedy,Music,Sci-Fi', 'Comedy,Mystery,Romance', 'Animation,Crime,Music', 'Documentary,Horror,Short', 'Mystery,Western', 'Adventure,Mystery,War', 'Romance,Sci-Fi,Short', 'Adventure,Mystery,Romance', 'Animation,Comedy,History', 'Mystery,Talk-Show', 'Animation,Short,Talk-Show', 'Comedy,Mystery,Reality-TV', 'Action,Horror,Mystery', 'Family,Reality-TV,Talk-Show', 'Action,Biography,Short', 'Adventure,Drama,Short', 'Drama,Fantasy,War', 'History,Sci-Fi', 'Crime,Family,News', 'Documentary,Fantasy,News', 'Adult,Drama,Sport', 'Adventure,Thriller,Western', 'Action,Documentary,Western', 'Animation,Music,Thriller', 'Family,Mystery,Thriller', 'Action,Adventure,Crime', 'History,Mystery', 'Comedy,Documentary,Short', 'Crime,Musical,Thriller', 'Adult,Adventure,Fantasy', 'Crime,Drama,Musical', 'Animation,Crime', 'Adventure,Drama,Romance', 'Animation,Short,War', 'Animation,Horror,Music', 'Biography,Music,Sport', 'Documentary,Thriller', 'Action,Music,Musical', 'Adult,Fantasy,Music', 'Comedy,Fantasy,History', 'Adult,Crime,Drama', 'Romance,Short,Thriller', 'Adventure,Musical,Western', 'Family,Musical,Sport', 'Comedy,News,Talk-Show', 'Drama,Musical,Western', 'Comedy,Fantasy,Music', 'Adult,Drama,Music', 'Adventure,Biography,Documentary', 'Biography,Fantasy,Mystery', 'Comedy,Short,Thriller', 'Crime,History,Talk-Show', 'Horror,Sci-Fi', 'Biography,Fantasy,War', 'Documentary,Drama,Sci-Fi', 'Drama,Horror,News', 'Action,Adventure,Romance', 'Comedy,Fantasy,Sci-Fi', 'Drama,News', 'Adventure,Crime,Music', 'Adult,Drama,Romance', 'Action,Musical,Thriller', 'Fantasy,Music,Sci-Fi', 'Fantasy,Western', 'Fantasy,Musical,Sci-Fi', 'Adventure,Comedy,Film-Noir', 'Biography,War', 'Crime,Music,Sci-Fi', 'Biography,News,Talk-Show', 'Action,Romance,Sci-Fi', 'Biography,Comedy,Sci-Fi', 'Comedy,Crime,Musical', 'History,Mystery,Thriller', 'Adventure,Drama,Western', 'Adventure,War,Western', 'Action,History,Music', 'Documentary,Talk-Show', 'Biography,Drama,Sport', 'Crime,Fantasy,Mystery', 'Adult,Fantasy', 'Comedy,Horror,Sci-Fi', 'Action,Mystery,Romance', 'Action,Crime', 'Drama,Family,History', 'Mystery,Reality-TV,Thriller', 'Adult,Drama,History', 'Action,Crime,Documentary', 'Adult,Animation,Horror', 'Drama,History,Musical', 'Drama,Romance,Short', 'Musical,Romance', 'Action', 'Mystery,Short,Thriller', 'Adult,Talk-Show', 'Biography,Sport', 'Biography,Drama,Mystery', 'Romance,Talk-Show', 'Crime,Sci-Fi', 'Crime,Sport,Thriller', 'Adventure,Documentary,Reality-TV', 'Drama,News,Short', 'Comedy,Fantasy,Musical', 'Action,Animation,Musical', 'Music,Musical,Romance', 'Action,Animation,Comedy', 'Drama,Mystery,Thriller', 'Animation,Fantasy,Sci-Fi', 'Action,Comedy,Thriller', 'Comedy,History,Short', 'Drama,Romance,Western', 'Drama,Short,War', 'Fantasy,Game-Show,Horror', 'Action,Documentary,Reality-TV', 'Drama,Music,News', 'Drama,Romance,War', 'Family,Mystery,Sci-Fi', 'Animation,Musical,Sci-Fi', 'Family,Fantasy,Mystery', 'Animation,Documentary,History', 'Musical,Romance,Thriller', 'Adventure,History,Romance', 'Animation,Comedy,Drama', 'Drama,Music,War', 'Horror,Romance', 'Sport,Thriller', 'Action,Comedy,Music', 'History,Sci-Fi,Short', 'Adventure,Music,Romance', 'Crime,Drama,Talk-Show', 'Family,Game-Show,Sci-Fi', 'Adventure,Crime,Musical', 'Comedy,Western', 'Biography', 'Comedy,Drama,Film-Noir', 'Fantasy,Horror,Music', 'Game-Show,History,Talk-Show', 'Musical,Mystery,Short', 'Adventure,Drama,News', 'Adventure,Mystery,Sci-Fi', 'Action,Crime,Horror', 'Adult,Animation,Drama', 'Adventure,Comedy,Documentary', 'Comedy,Crime,Talk-Show', 'Action,War', 'Action,Fantasy,Mystery', 'Comedy,History,Music', 'Crime,Thriller,War', 'Biography,Family,Talk-Show', 'Biography,Comedy,Documentary', 'Drama,Reality-TV,Romance', 'Animation,Comedy,Sport', 'Documentary,Family,Sport', 'Animation,Fantasy,Thriller', 'Horror,Short,Sport', 'Animation,Reality-TV,Talk-Show', 'Action,Biography,Crime', 'Drama,History,War', 'Drama,Game-Show,Reality-TV', 'Adult,Reality-TV', 'Action,Horror,Sport', 'Animation,Family,Horror', 'Comedy,Sport,Western', 'History,Reality-TV,Sport', 'Action,Adventure', 'Adventure,Sport', 'Fantasy,Talk-Show', 'Animation,Biography,Mystery', 'Drama,Music,Western', 'Comedy,News,Sport', 'History,Music,Mystery', 'Family,Musical,Short', 'Biography,Crime', 'Biography,Romance,Thriller', 'Adult,Adventure,Biography', 'Family,Short,Thriller', 'Adventure,Documentary,Sport', 'Family,Fantasy', 'Animation,Romance', 'Adventure,Fantasy,Music', 'Comedy,History,Sport', 'Comedy,Fantasy', 'Action,Musical,War', 'History,Reality-TV,Short', 'Biography,Comedy,Reality-TV', 'Adventure,Drama,Sport', 'Documentary,Mystery,Sci-Fi', 'Action,Musical,Mystery', 'Biography,Crime,Short', 'Mystery,Short', 'Crime,Film-Noir', 'History,Short,Sport', 'Fantasy,History,Horror', 'Action,Drama,Thriller', 'Sci-Fi,Thriller,Western', 'Adventure,Documentary,Horror', 'Adventure,Game-Show', 'Adventure,Crime,News', 'Animation,Documentary,Romance', 'Crime,Family,Horror', 'Action,Animation,Documentary', 'Adult,Fantasy,Romance', 'Crime,Film-Noir,Mystery', 'Documentary,Romance,Thriller', 'Documentary,Short', 'Family,Short,War', 'Sci-Fi,Short,Western', 'Action,Thriller,War', 'Documentary,Fantasy,Reality-TV', 'Family,Talk-Show', 'Fantasy,News,Short', 'Crime,News,Talk-Show', 'Adventure,Music,Mystery', 'Animation,Fantasy,Musical', 'Animation,Crime,Drama', 'Animation,Crime,Documentary', 'Adult,Crime,Mystery', 'Sci-Fi,Short,Thriller', 'Adventure,Musical,Romance', 'Adventure,Romance,Sci-Fi', 'Biography,Family', 'Drama,Thriller,War', 'Drama,Music,Short', 'History,News', 'Mystery,Reality-TV,Sci-Fi', 'History,Talk-Show', 'Adventure,Documentary,Family', 'Biography,Family,Short', 'Crime,History,Short', 'Comedy,Documentary,Family', 'Adult,Short,War', 'Documentary,Music,Talk-Show', 'Animation,Crime,Family', 'Action,Music', 'Horror,Mystery,Sci-Fi', 'Horror,Reality-TV,Thriller', 'Drama,Family,News', 'Adventure,Drama,Sci-Fi', 'Adventure,Horror,Musical', 'Adult,Musical', 'Drama,Family,Music', 'Action,News,Talk-Show', 'Documentary,Music,Romance', 'Action,Animation,Game-Show', 'Family,News', 'Adventure,Reality-TV,Romance', 'Crime,Family,Fantasy', 'Short,Thriller,War', 'Crime,Short,Sport', 'Action,Musical,Romance', 'Documentary,History,Sport', 'Drama,Family,War', 'Game-Show,Music,Short', 'Action,Biography,Musical', 'History,Reality-TV,War', 'Drama,Music,Sport', 'Adventure,Comedy,Romance', 'Action,Adult', 'Adventure,Mystery,Short', 'Action,Family,Mystery', 'Animation,Comedy,Western', 'Action,Drama,Mystery', 'Animation,Documentary,Fantasy', 'Animation,Family,Mystery', 'Family,Game-Show', 'Comedy,Documentary,Music', 'Family,Sport,Talk-Show', 'Adventure,Music,Sci-Fi', 'Animation,Biography,Family', 'Animation,Sci-Fi', 'Comedy,Music,Western', 'Action,Music,Short', 'Adventure,Biography,Family', 'Animation,Horror,Sci-Fi', 'Thriller,War', 'Thriller', 'Adult,Mystery,War', 'Crime,Documentary,Sport', 'Animation,Documentary,Drama', 'Animation,Drama,Musical', 'Documentary,Fantasy,Sport', 'History,News,Romance', 'Adventure,Fantasy,Sci-Fi', 'Crime,Game-Show,Mystery', 'Biography,Fantasy,Music', 'News,Romance', 'Adult,Fantasy,Thriller', 'Action,Sci-Fi,Thriller', 'Comedy,News,Sci-Fi', 'Family,Reality-TV,Romance', 'Animation,Drama,Sci-Fi', 'Crime,Romance,Western', 'Game-Show,Reality-TV,Short', 'Drama,Romance,Thriller', 'Crime,Documentary,Game-Show', 'Adventure,Drama,Fantasy', 'Action,Short,Thriller', 'Comedy,Family,Romance', 'Adult,Thriller', 'Drama,Family,Western', 'Mystery,News,Short', 'Adult,Music,Romance', 'Biography,Crime,Thriller', 'Adventure,Western', 'Crime,Musical,War', 'Comedy,Horror,Music', 'Animation,Biography,Musical', 'Adventure,Fantasy,Game-Show', 'Crime,Music,Thriller', 'Biography,Drama,Short', 'Biography,Reality-TV,Sport', 'Adventure,Film-Noir', 'Musical,News,Reality-TV', 'Animation,Music', 'Animation,Documentary,Musical', 'Action,Crime,Mystery', 'Animation,Fantasy,Short', 'Adventure,Fantasy,Horror', 'Biography,History,News', 'Adult,Animation,Crime', 'Music,Mystery', 'Documentary,Horror,Sci-Fi', 'Biography,Reality-TV,Talk-Show', 'Fantasy,History,Romance', 'Comedy,Sport,Thriller', 'Drama,Family,Reality-TV', 'Horror,Thriller,War', 'Adventure,Biography,Music', 'Adventure,Horror,Reality-TV', 'Drama,Fantasy,Sport', 'Mystery,Sci-Fi,Thriller', 'Action,Adventure,Mystery', 'Family,News,Short', 'Documentary,Family,News', 'Horror,Music,Romance', 'Biography,Family,Fantasy', 'Action,Sci-Fi,War', 'Adult,Mystery,Romance', 'Biography,History,Music', 'Adult,Biography,Romance', 'Action,Biography,Drama', 'Fantasy,Musical,Mystery', 'Animation,Crime,News', 'Crime,Drama,Sport', 'Documentary,Musical,War', 'Crime,Sci-Fi,Thriller', 'Adventure,Family,Horror', 'Documentary,Drama,Family', 'Adventure,Sci-Fi,Western', 'Animation,Fantasy,News', 'Film-Noir,Horror,Thriller', 'Biography,Crime,Musical', 'Fantasy,Horror,News', 'Animation,Short,Sport', 'Animation,Comedy,Fantasy', 'Comedy,Drama', 'Film-Noir,Thriller', 'Documentary,Thriller,War', 'Action,Documentary,Mystery', 'Crime,Drama,News', 'Comedy,Crime,Sport', 'Action,Romance', 'Documentary,News,Talk-Show', 'Adventure,Biography,Romance', 'Biography,Thriller,War', 'Documentary,Mystery,Reality-TV', 'Comedy,Sci-Fi,War', 'Drama,History,Thriller', 'Biography,Crime,Fantasy', 'Biography,History,Talk-Show', 'Family,Fantasy,Sci-Fi', 'Animation,Drama,Mystery', 'Action,Animation,Sci-Fi', 'Drama,History', 'Action,Comedy,Family', 'Animation,Biography,Horror', 'Animation,Fantasy', 'Drama,Family,Thriller', 'Family,History,War', 'Action,Biography,Game-Show', 'Crime,Thriller,Western', 'History,Mystery,News', 'Documentary,Musical,Thriller', 'Family,Sport,Thriller', 'Crime,Game-Show', 'Musical,Thriller', 'Biography,Comedy,Music', 'Adventure,Drama,Mystery', 'Biography,Family,Reality-TV', 'Comedy,Musical,Romance', 'Biography,Horror,Sci-Fi', 'Biography,History,Short', 'Family,Horror,Sci-Fi', 'Comedy,Documentary,Romance', 'Crime,Musical', 'Comedy,Crime,Game-Show', 'Documentary,Family,Reality-TV', 'Adult,Sci-Fi,Short', 'Comedy,Short,Sport', 'Action,Comedy,Fantasy', 'Action,Adult,History', 'Comedy,Documentary,Sport', 'Adventure,Music,Western', 'Documentary,Game-Show,Music', 'Adult,Comedy,Mystery', 'Animation,History,Sport', 'Horror,Western', 'Action,Fantasy,Sport', 'Biography,Documentary,Musical', 'Biography,Short,War', 'Documentary,Musical,Reality-TV', 'Biography,Crime,Mystery', 'Action,Talk-Show', 'Adult,Comedy,Crime', 'Adventure,Crime,Sci-Fi', 'Fantasy,Mystery,Sci-Fi', 'Adventure,Animation,Fantasy', 'Talk-Show,War', 'Music,Musical,Reality-TV', 'Crime,Documentary,Mystery', 'Biography,Musical', 'Animation,Short,Thriller', 'News,Sci-Fi', 'Romance,Thriller', 'Adult,Animation,Musical', 'Drama,Music', 'Biography,Drama,History', 'Crime,Sci-Fi,Short', 'Musical,Short,Sport', 'Fantasy,Mystery,Reality-TV', 'Animation,News,Sci-Fi', 'Crime,Fantasy,Thriller', 'Musical,News,Talk-Show', 'Drama,Horror,War', 'Comedy,Crime,News', 'Biography,Comedy,History', 'Adventure,Music,Short', 'Biography,Comedy,Mystery', 'Action,Comedy,Horror', 'Drama,News,Sci-Fi', 'Action,Family,Romance', 'Family,Music,Sport', 'Documentary,Short,Talk-Show', 'Fantasy,Mystery,Short', 'Comedy,Crime,Reality-TV', 'Action,Documentary,Family', 'Game-Show,Horror', 'History,Music,Romance', 'News,Sport,Talk-Show', 'Music,Romance', 'Drama,Musical,Short', 'Family,Mystery,Romance', 'Adult,Adventure', 'Adult,Crime,Thriller', 'Crime,Documentary,Short', 'Mystery,News,Reality-TV', 'Mystery,Romance,Sci-Fi', 'Animation,Talk-Show', 'Action,Drama,News', 'Adventure,History,Thriller', 'Reality-TV,Talk-Show,Western', 'History,Horror,Mystery', 'Horror,War', 'Family,Mystery,Sport', 'Adventure,Family,Sci-Fi', 'Horror,Sci-Fi,Talk-Show', 'Crime,Family,Mystery', 'Thriller,War,Western', 'Animation,Music,Romance', 'Comedy,Musical,War', 'Horror,Mystery,Short', 'Action,Family,Music', 'Biography,Documentary,Short', 'Romance,Thriller,War', 'Adventure,Comedy,Short', 'Biography,Reality-TV', 'Adventure,Comedy,Game-Show', 'Documentary,Family,Music', 'Comedy,Drama,Music', 'Comedy,Sci-Fi,Short', 'Action,Adult,Adventure', 'Adventure,Romance,Short', 'Adult,Documentary,Music', 'Musical,Romance,War', 'History,Musical,Short', 'Adventure,News', 'Thriller,Western', 'Action,Animation,Fantasy', 'Adventure,Comedy,Drama', 'Action,Game-Show,News', 'Mystery,Sport,Western', 'Action,Thriller', 'Drama,Fantasy', 'Action,Adventure,Musical', 'Crime,History,Horror', 'Family,Reality-TV,Sport', 'Biography,Horror,Talk-Show', 'Documentary,News,Thriller', 'Drama,Horror,Thriller', 'Fantasy,Romance,Short', 'News,Short,Thriller', 'Adventure,History,Reality-TV', 'Music,News,Talk-Show', 'Comedy,Thriller,Western', 'Adult,Comedy,History', 'Crime,Documentary,News', 'Adult,Drama,Short', 'Romance,Short,Western', 'Crime,Fantasy,Sci-Fi', 'Documentary,News,Sci-Fi', 'Game-Show,Romance', 'Romance,Western', 'Action,Musical,Short', 'Adventure,Documentary,News', 'Drama,Talk-Show', 'Documentary,Family,Talk-Show', 'Adventure,Music,Thriller', 'Adventure,Music', 'Action,Documentary,Sci-Fi', 'Adult,Crime,Sci-Fi', 'Adventure,Drama,Family', 'Action,Drama,Sport', 'History,News,Reality-TV', 'Biography,Short,Thriller', 'Adventure,Animation,Crime', 'Documentary,Music,Mystery', 'Horror,Music,Musical', 'Comedy,Fantasy,Horror', 'Documentary,Musical,Romance', 'Horror,Music,Thriller', 'Comedy,Fantasy,Thriller', 'Action,History,Sport', 'Animation,Biography,Drama', 'Biography,Music,Talk-Show', 'Adventure,Family,Reality-TV', 'Action,Horror,Romance', 'Documentary,Musical,Mystery', 'Reality-TV,Short,Sport', 'Sci-Fi,Short', 'Adventure,Crime,Film-Noir', 'Adventure,Drama,War', 'Film-Noir,Romance,Thriller', 'Horror,News', 'Family,Fantasy,History', 'Animation,Mystery,Short', 'Biography,Music,Mystery', 'Animation,Drama,Music', 'Biography,Drama,Fantasy', 'Action,History,Horror', 'Documentary,Musical,Sport', 'Comedy,Game-Show,Horror', 'Adventure,Reality-TV,Short', 'Biography,History,Horror', 'Comedy,History,Horror', 'Documentary,Family,War', 'Biography,Thriller', 'Music,Sci-Fi', 'Adventure,Documentary,Thriller', 'Action,Comedy,Musical', 'Animation,Sci-Fi,Thriller', 'Animation,Sci-Fi,War', 'Biography,Horror,Music', 'Action,Drama,Family', 'Animation,News,Reality-TV', 'Animation,Comedy,Short', 'Musical,Mystery,Thriller', 'Animation,Comedy,Mystery', 'Family,History,Sci-Fi', 'Adventure,Horror,Short', 'Horror,Mystery,Reality-TV', 'Adventure,Comedy,Fantasy', 'Family,Horror,Romance', 'Family,Fantasy,Short', 'Biography,Fantasy,News', 'Drama,Horror,Romance', 'Game-Show,Reality-TV', 'Horror,News,Sci-Fi', 'Action,Drama,Music', 'Animation,Short', 'Biography,Comedy,Talk-Show', 'Comedy,Family,Western', 'Adventure,Documentary', 'Animation,Horror', 'Documentary,History,Reality-TV', 'Comedy,Crime,Music', 'Crime,Horror,Mystery', 'Biography,Game-Show', 'Drama,Reality-TV', 'Action,Horror,Western', 'Animation,Documentary,Sport', 'Horror,Short,Talk-Show', 'History,Horror,Short', 'Action,History,War', 'Crime,Short,Thriller', 'Adventure,History,News', 'Drama,Game-Show', 'Adult,Sci-Fi', 'Drama,Horror,Mystery', 'Action,Fantasy,Western', 'Action,Crime,Sci-Fi', 'Family,Horror,Mystery', 'Action,Drama', 'Drama,Reality-TV,Short', 'Animation,Biography', 'Crime,Drama,Sci-Fi', 'Horror,Musical,Mystery', 'Crime,Music,Mystery', 'Game-Show,News', 'Action,Adult,Sport', 'Drama,Sci-Fi,Short', 'Animation,Drama,War', 'History,Romance', 'Documentary,Mystery,War', 'Animation,Crime,Horror', 'Animation,Game-Show', 'News,Talk-Show', 'Documentary,Drama,Talk-Show', 'Short,Sport', 'Comedy,Game-Show,Musical', 'Action,Adult,War', 'Comedy,Game-Show,Romance', 'Action,Sport,Talk-Show', 'Animation,Documentary,War', 'Adventure,Drama,History', 'History,Musical,Talk-Show', 'Comedy,Crime,Mystery', 'Romance,Sport,Western', 'Animation', 'Adult,Horror,Music', 'Documentary,War,Western', 'Fantasy,Short,Sport', 'Biography,Fantasy,Short', 'Action,Drama,Game-Show', 'Music,Romance,Western', 'Adventure,Documentary,Talk-Show', 'Game-Show,Music', 'Biography,Family,History', 'Drama,Short', 'Comedy,Romance', 'Animation,Comedy,Crime', 'Musical,Short,War', 'Action,Animation,Romance', 'Action,Documentary,Musical', 'Romance,Short', 'Action,Adventure,Fantasy', 'Family,Reality-TV,Short', 'Documentary,Music,Short', 'Musical,Romance,Sci-Fi', 'Animation,Biography,Documentary', 'Adventure,Romance', 'Biography,Comedy,News', 'Adventure,Family,Romance', 'Music,News,Short', 'Action,Animation,Short', 'Documentary,Game-Show,History', 'Documentary,Music,News', 'Animation,Reality-TV,Short', 'Action,Comedy,Western', 'Comedy,Horror,Sport', 'Biography,Documentary,War', 'Drama,Music,Sci-Fi', 'Animation,Fantasy,Horror', 'Documentary,Mystery,Short', 'Fantasy,History', 'Family,News,Talk-Show', 'Action,Documentary,Drama', 'Documentary,Drama,Fantasy', 'Drama,History,Romance', 'Drama,Thriller,Western', 'History,Musical,War', 'Adult,Fantasy,Horror', 'Action,Adventure,Documentary', 'Documentary,Music', 'Music,War', 'Musical,Mystery', 'Animation,Biography,Short', 'Comedy,Short', 'Adventure,Documentary,Drama', 'Adventure,Animation,Mystery', 'Action,Horror,Short', 'Crime,Short', 'Drama,Family,Musical', 'Comedy,Drama,History', 'Drama,Short,Talk-Show', 'News,Romance,Talk-Show', 'Drama,Musical,Sci-Fi', 'Animation,Comedy,Musical', 'Music,Reality-TV,Talk-Show', 'Comedy,Crime,Horror', 'Drama,Mystery', 'Adult,Music,Short', 'Horror,Music,Mystery', 'Biography,Crime,Documentary', 'Horror,Reality-TV,Talk-Show', 'Drama,Fantasy,Music', 'Comedy,Music,Talk-Show', 'Biography,History,War', 'Adventure,Biography,Crime', 'Animation,Family,History', 'Adult,Romance,Short', 'Game-Show,Mystery,Short', 'Mystery,Romance,Western', 'Fantasy,Musical', 'Comedy,Family,Talk-Show', 'Crime,Family,History', 'Animation,Family,Romance', 'Adventure,Fantasy,Thriller', 'Animation,History', 'Crime,Family', 'Drama,Fantasy,Sci-Fi', 'Action,Biography,Family', 'Horror,Mystery', 'Adult,Western', 'Adventure,Musical,Sci-Fi', 'Horror,Musical,Thriller', 'Drama,Mystery,Sci-Fi', 'Comedy,Crime,History', 'Music,Romance,Short', 'Action,Adult,Mystery', 'Biography,Documentary,Sport', 'Comedy,Documentary,War', 'Adventure,Drama,Film-Noir', 'Adult,Drama,Horror', 'Comedy,Music', 'Music,Sport', 'Comedy,Drama,Reality-TV', 'Biography,History,Thriller', 'Documentary,History,Romance', 'Action,Adventure,Horror', 'History,News,War', 'Action,Animation,Sport', 'Drama,Film-Noir,Horror', 'Horror,Music,Sci-Fi', 'Family,History,Music', 'Biography,Comedy,Romance', 'Crime,Drama,Western', 'Comedy,Mystery,News', 'Animation,Music,Talk-Show', 'Drama,Sci-Fi,Western', 'Action,Comedy,Sport', 'Documentary,News,War', 'Action,Crime,Romance', 'History', 'Adventure,Fantasy,Short', 'Documentary,History,Talk-Show', 'Crime,Drama,Reality-TV', 'Adult,Comedy,Horror', 'Adventure,Animation,Drama', 'Action,Family,Western', 'Adult,News', 'Documentary,Family,Musical', 'Biography,Game-Show,Reality-TV', 'Adventure,Animation,Music', 'Mystery,Thriller', 'Musical,Romance,Sport', 'Fantasy,Romance,Sci-Fi', 'Adventure,Crime,Romance', 'Drama,History,Music', 'Biography,Drama,Musical', 'Adventure,Short', 'Animation,Crime,Romance', 'Biography,News,Short', 'History,Talk-Show,War', 'Comedy,Family,History', 'Drama,Musical,Sport', 'Game-Show,Horror,Thriller', 'Adult,Animation,Romance', 'Action,Animation', 'Reality-TV,Romance,Talk-Show', 'Fantasy,Romance,Thriller', 'Game-Show,Music,Musical', 'Action,Documentary,News', 'Family,Music,News', 'Adult,Reality-TV,Talk-Show', 'Adult,Drama,Thriller', 'Comedy,Music,Musical', 'History,Music,Sci-Fi', 'Documentary,History,Sci-Fi', 'Animation,Family,Music', 'Music', 'Adventure,Comedy,Mystery', 'Action,Music,Western', 'History,Thriller', 'Action,Biography,News', 'Crime,News,Short', 'Drama', 'Crime,Mystery,Short', 'Family,Short', 'Drama,Film-Noir,Mystery', 'Crime,Reality-TV,Short', 'History,Mystery,Short', 'Fantasy,Sci-Fi,Short', 'Animation,Horror,Romance', 'Biography,Documentary,Fantasy', 'Comedy,Music,Thriller', 'Biography,Romance,Western', 'Mystery,Short,Sport', 'Animation,Documentary,Talk-Show', 'Adventure,Talk-Show', 'Comedy,Family,News', 'Music,Musical', 'Adult,Adventure,Short', 'Biography,Horror,Short', 'Comedy,Game-Show,Music', 'Animation,Fantasy,Mystery', 'Drama,Sport,War', 'Documentary,Sci-Fi,Short', 'Action,Musical', 'Adventure,Drama,Musical', 'Family,Horror,Short', 'Animation,History,Musical', 'Animation,Biography,News', 'News,Reality-TV,Short', 'Action,Drama,History', 'Crime,Romance,Short', 'Mystery,Sci-Fi,Talk-Show', 'Biography,Music,Musical', 'Adventure,Crime,Western', 'Adventure,History,War', 'Animation,Comedy,Romance', 'Action,Family', 'Comedy,Horror,Reality-TV', 'Biography,History,Sport', 'Action,Adventure,Comedy', 'Adult,Documentary,Drama', 'Crime,Mystery,Sport', 'Mystery,War', 'Crime,Short,War', 'Biography,Crime,History', 'Biography,Reality-TV,Short', 'Action,Documentary', 'Crime,Drama,Short', 'Crime,Family,Musical', 'Adventure,Romance,Sport', 'Animation,Comedy,Sci-Fi', 'History,Horror,Sci-Fi', 'Game-Show,Reality-TV,Sci-Fi', 'Biography,Music,Romance', 'Adult,Documentary,Horror', 'Adult,Animation,Comedy', 'Adult,Horror,Short', 'Documentary,Fantasy,Short', 'Animation,Family,Sci-Fi', 'Drama,Musical,Reality-TV', 'Action,Animation,Music', 'Romance,Sci-Fi,Thriller', 'Mystery,Short,Western', 'Comedy,Family,Game-Show', 'Family,History,Musical', 'Documentary,Drama', 'Animation,History,Romance', 'News,Short', 'Drama,Reality-TV,Talk-Show', 'Comedy,Thriller', 'Game-Show,Talk-Show', 'Adult,Drama,Mystery', 'Biography,Fantasy', 'Action,Crime,Western', 'Fantasy,Horror,Romance', 'Drama,Family', 'Animation,Mystery', 'Adult,Drama,Reality-TV', 'Animation,Comedy,Music', 'Short,Thriller', 'Comedy,News,Romance', 'Action,Reality-TV,Western', 'Adventure,Drama,Music', 'Music,Romance,Sci-Fi', 'Action,Thriller,Western', 'Crime,Documentary,Thriller', 'Family,History,News', 'Adult,Music', 'Adult,Drama,Musical', 'Short,Sport,Talk-Show', 'Action,Horror', 'Action,Short,Talk-Show', 'Crime,Fantasy,History', 'Adventure,Biography,Western', 'Fantasy,Horror', 'Adventure,Romance,Western', 'Action,Sport,War', 'Family,Romance,Sci-Fi', 'Adventure,Biography,Musical', 'Sci-Fi,Thriller,War', 'Family,Short,Talk-Show', 'Documentary,Mystery,Romance', 'Musical,Reality-TV,Talk-Show', 'Fantasy,Reality-TV,Sci-Fi', 'Documentary,Drama,Musical', 'Documentary,History,Thriller', 'Romance,War,Western', 'Comedy,Fantasy,Mystery', 'Animation,Comedy', 'Action,News,Short', 'Adult,Drama,Family', 'Adult,Biography,Talk-Show', 'Adventure,Horror,Western', 'Documentary,News,Sport', 'Comedy,Short,Talk-Show', 'Fantasy,Sport', 'Documentary,Horror,Romance', 'Animation,Family,Western', 'Drama,Fantasy,Reality-TV', 'Action,Animation,Mystery', 'Biography,Comedy', 'Documentary,News,Short', 'Animation,Biography,Romance', 'Comedy,Crime,Documentary', 'Adventure,History', 'Action,Game-Show,Reality-TV', 'Action,Family,Game-Show', 'Biography,Sport,Talk-Show', 'Comedy,Documentary,Horror', 'Horror,Reality-TV', 'Animation,Musical,Short', 'Action,Comedy,Reality-TV', 'Biography,Comedy,Thriller', 'Action,Musical,Western', 'Action,Short,Sport', 'Documentary,Horror,Musical', 'Action,Drama,Sci-Fi', 'Game-Show,Music,Talk-Show', 'Animation,Romance,Sport', 'Adult,Drama,Western', 'Musical,War', 'Adult,Biography,Drama', 'Comedy,Game-Show,Mystery', 'Animation,Mystery,Romance', 'Fantasy,History,Sci-Fi', 'Documentary,Family,Fantasy', 'Horror,Talk-Show,Thriller', 'Biography,Comedy,Short', 'Documentary,Sci-Fi', 'Horror,Sci-Fi,Thriller', 'Adult,Comedy,Sport', 'Comedy,Family,Musical', 'Mystery', 'Biography,News,Reality-TV', 'Biography,Crime,Drama', 'Adventure,Mystery,Thriller', 'Music,Short,War', 'Action,Adult,Short', 'Game-Show,Short', 'Adventure,Short,Thriller', 'Crime,Horror,Thriller', 'Adventure,Biography,War', 'Animation,History,War', 'Sci-Fi,Sport', 'Documentary,Sci-Fi,Sport', 'Crime,Fantasy,Short', 'Biography,History,Musical', 'Fantasy,History,Short', 'Adventure,Reality-TV', 'Comedy,Music,Sport', 'Animation,Horror,Musical', 'Action,Comedy,Drama', 'Action,Comedy,Mystery', 'Fantasy,Mystery,Romance', 'Comedy,Reality-TV,Romance', 'Game-Show,History,Music', 'Biography,Documentary,Talk-Show', 'Documentary,Game-Show,Reality-TV', 'Comedy,Crime,Romance', 'Action,Comedy,History', 'Family,Romance,Short', 'Adventure,Mystery,Sport', 'Drama,Family,Mystery', 'Adventure,Sci-Fi,Sport', 'Biography,Family,Musical', 'Drama,Music,Talk-Show', 'Documentary,Drama,Music', 'Fantasy,Sci-Fi,Thriller', 'Documentary,Horror,Talk-Show', 'Animation,War', 'Fantasy,Reality-TV,Romance', 'Musical,Sci-Fi', 'Biography,News', 'Adventure,Comedy,Reality-TV', 'Biography,Sci-Fi,Short', 'Animation,Family,Fantasy', 'Biography,Crime,Music', 'Action,Drama,Fantasy', 'Drama,Musical,Talk-Show', 'Comedy,Reality-TV', 'Action,History', 'Animation,Drama,Short', 'Adventure,Musical,Mystery', 'Action,Comedy,Romance', 'Comedy,Documentary,Musical', 'Family,Fantasy,Reality-TV', 'Game-Show,Reality-TV,Talk-Show', 'Film-Noir,Mystery', 'Drama,Western', 'Game-Show,Horror,Reality-TV', 'Crime,Mystery,War', 'Biography,Documentary,Western', 'Drama,Short,Western', 'Adventure,Biography,Fantasy', 'Biography,Drama,Reality-TV', 'Action,Fantasy,Music', 'Family,Reality-TV', 'Adventure,Comedy,War', 'Reality-TV', 'Family,Fantasy,Music', 'Adventure,Crime,Family', 'History,News,Sport', 'Adult,Animation,Fantasy', 'Adventure,Thriller,War', 'Adult,Adventure,Comedy', 'Game-Show,History', 'Fantasy,Thriller,Western', 'Crime,Horror,Talk-Show', 'Action,Fantasy,War', 'News,Sci-Fi,Short', 'Comedy,Family,Short', 'Documentary,Music,War', 'Action,Musical,Sci-Fi', 'Horror,Musical,Short', 'Family,Music,Western', 'Biography,Drama,Horror', 'Talk-Show,Western', 'Musical,Sci-Fi,Short', 'Action,Adventure,Drama', 'Family,Horror', 'Comedy,Documentary', 'Comedy,Fantasy,Sport', 'Documentary,Drama,History', 'Horror,Music,Short', 'Documentary,Fantasy', 'Comedy,News', 'Crime,Documentary', 'Adventure,Comedy,Sci-Fi', 'Comedy,Music,War', 'Crime,Fantasy,Musical', 'Comedy,Family', 'Drama,News,Romance', 'History,Music,Short', 'Documentary,Drama,Romance', 'Family,Sci-Fi', 'Animation,History,Music', 'Adventure,Crime,Short', 'Game-Show,Sport', 'Game-Show,Mystery,Reality-TV', 'Animation,Short,Western', 'Documentary,Sport', 'Musical,Western', 'Animation,Crime,Thriller', 'Animation,Musical,Sport', 'Biography,Horror', 'Animation,Horror,Thriller', 'Documentary,Reality-TV', 'Horror,News,Short', 'Animation,Music,Mystery', 'Action,Adult,Crime', 'Documentary,Mystery,Talk-Show', 'Action,History,Western', 'Action,Family,Sport', 'Family,War', 'Adventure,Documentary,Game-Show', 'Adult,Crime,Fantasy', 'Action,Adult,Horror', 'Biography,Drama,Sci-Fi', 'Mystery,News', 'Music,Musical,Talk-Show', 'Music,Sci-Fi,Thriller', 'Comedy,Horror,News', 'Adventure,Fantasy,Romance', 'Adventure,Sport,Thriller', 'Documentary,Drama,Short', 'Action,Horror,Musical', 'Adventure,Animation,Western', 'Family,Sci-Fi,Short', 'Drama,Fantasy,History', 'Comedy,Horror', 'Fantasy,Mystery,Western', 'Documentary,Horror,Thriller', 'Music,Mystery,Thriller', 'Sci-Fi,Short,War', 'Action,Animation,Family', 'Fantasy,Short,Western', 'Drama,Sport,Thriller', 'Musical,Reality-TV', 'History,Horror,Romance', 'Documentary,Family,Horror', 'Animation,Sport,Thriller', 'Comedy,Horror,Western', 'Crime,War', 'Documentary,News,Reality-TV', 'Animation,History,Short', 'Drama,History,Mystery', 'Crime,Drama,Fantasy', 'Comedy,Drama,Sport', 'Adventure,Biography,Thriller', 'Biography,Documentary,Thriller', 'History,Reality-TV', 'Action,Animation,History', 'Adventure,Documentary,Western', 'Adult,Sci-Fi,Thriller', 'Adult,Drama', 'Musical,News,Short', 'Biography,Sci-Fi', 'Adventure,Family,Fantasy', 'Animation,Crime,Reality-TV', 'Adult,Comedy,War', 'Documentary,Horror,News', 'Comedy,Sci-Fi,Thriller', 'Action,Horror,Sci-Fi', 'Documentary,Romance,Sci-Fi', 'Comedy,Fantasy,Reality-TV', 'Adventure,Animation,Horror', 'Adventure,Animation,Biography', 'Adventure,History,Short', 'Action,Adult,Documentary', 'Animation,Game-Show,Music', 'Comedy,Crime,Short', 'Sport,War', 'History,Sport', 'Adventure,Sci-Fi,War', 'Adventure,Fantasy,War', 'Comedy,History,Western', 'Sport', 'Drama,Horror,Reality-TV', 'Documentary,Short,Western', 'Adventure,Sci-Fi,Short', 'Action,Biography,Sport', 'Horror,Romance,Sci-Fi', 'Action,Adult,Drama', 'Comedy,Crime', 'Action,Fantasy', 'Animation,Mystery,Thriller', 'Fantasy,Horror,Short', 'Comedy,Crime,Fantasy', 'History,Short,Talk-Show', 'Animation,Fantasy,Romance', 'Reality-TV,Short,War', 'Documentary,Family,Sci-Fi', 'Crime,Fantasy,Romance', 'Action,Fantasy,Thriller', 'Mystery,Sci-Fi', 'Action,Drama,Reality-TV', 'Adventure,Horror,Romance', 'Adventure,Family,War', 'Adult,Comedy,Drama', 'Crime,Romance', 'History,Reality-TV,Sci-Fi', 'Adult,Sport,War', 'Drama,History,Western', 'Animation,Romance,Short', 'Family,Music,Reality-TV', 'Adventure,Drama,Horror', 'Horror,Mystery,Talk-Show', 'Drama,Family,Game-Show', 'Musical,Talk-Show', 'Drama,Mystery,News', 'Adventure,Comedy,Thriller', 'Adventure,Fantasy,News', 'Animation,History,News', 'Family,Musical,Talk-Show', 'Comedy,Documentary,Game-Show', 'Adult,Fantasy,Mystery', 'Fantasy,Mystery', 'History,Musical', 'Crime,Mystery,News', 'Family,Game-Show,Talk-Show', 'Drama,Fantasy,Western', 'Horror,Music', 'Sci-Fi,Sport,Talk-Show', 'Comedy,Romance,Sci-Fi', 'Comedy', 'Film-Noir,Horror', 'Biography,Mystery,Romance', 'Horror,Mystery,Thriller', 'Fantasy,Game-Show', 'History,Romance,Sci-Fi', 'Fantasy,Musical,Short', 'Game-Show,Horror,Mystery', 'Documentary,Drama,Western', 'Comedy,Drama,War', 'Action,Animation,Western', 'Adult,Crime,Horror', 'Action,Comedy,Short', 'Adventure,Animation,Family', 'Biography,Drama,Romance', 'Action,Romance,Thriller', 'Crime,Fantasy', 'Adult,Comedy,Fantasy', 'Animation,History,Horror', 'Western', 'Biography,News,Sci-Fi', 'Action,History,Reality-TV', 'Action,Horror,War', 'News,Short,Talk-Show', 'Comedy,Game-Show', 'Comedy,Drama,Romance', 'Horror,Musical,Sci-Fi', 'Comedy,Mystery,Sport', 'Comedy,Fantasy,Romance', 'Action,Short', 'Adventure,Documentary,Romance', 'Drama,War,Western', 'Sci-Fi', 'Adventure,Family,Music', 'Comedy,Reality-TV,Sport', 'News,Reality-TV', 'Animation,Music,Musical', 'Biography,Drama,News', 'Adult,Mystery,Sci-Fi', 'Biography,Comedy,Drama', 'Adventure,Comedy,Musical', 'Music,Mystery,Sci-Fi', 'Action,Family,Sci-Fi', 'Short', 'Comedy,Mystery,War', 'Drama,Mystery,War', 'Adventure,Family', 'Adult,Crime,Short', 'Action,Adult,Fantasy', 'Romance,Sci-Fi,Western', 'Biography,Thriller,Western', 'Documentary,Reality-TV,Sci-Fi', 'Musical,Romance,Western', 'Adult,Drama,War', 'Documentary,Short,Thriller', 'Comedy,Musical,News', 'Action,Crime,Drama', 'Comedy,Fantasy,Short', 'Animation,Reality-TV', 'Reality-TV,Sci-Fi', 'Comedy,Mystery', 'Action,Mystery,Short', 'History,Romance,War', 'Documentary,Fantasy,History', 'Adventure,Animation,Musical', 'Drama,History,Sci-Fi', 'Action,Sci-Fi', 'Horror,Short', 'Documentary,Fantasy,Horror', 'Adventure,Fantasy,Musical', 'Comedy,Musical', 'Documentary,Music,Western', 'Comedy,Sport,Talk-Show', 'Documentary,Drama,Thriller', 'Action,Crime,Film-Noir', 'Adventure,Crime,Documentary', 'Game-Show,Musical', 'Drama,Romance,Sci-Fi', 'Game-Show,History,News', 'Animation,Comedy,Reality-TV', 'Action,Animation,Thriller', 'Drama,Musical,Thriller', 'Mystery,Romance', 'Adventure,Biography,Sport', 'Biography,Music,Reality-TV', 'Animation,Comedy,Game-Show', 'Adventure,Game-Show,Horror', 'Action,History,Mystery', 'Comedy,Documentary,Drama', 'Biography,Crime,Horror', 'Animation,Fantasy,Music', 'Drama,Fantasy,Horror', 'Animation,Fantasy,History', 'Action,Adventure,Biography', 'Action,Drama,Romance', 'Biography,Documentary,News', 'Comedy,Family,Fantasy', 'Crime,Musical,Mystery', 'Music,Romance,Sport', 'Animation,Family,News', 'Adult,Romance', 'Action,Sport', 'Adventure,Biography,Mystery', 'Biography,History,Western', 'Crime,History,News', 'Documentary,Romance', 'Action,Documentary,War', 'Adult,Comedy,Sci-Fi', 'Drama,Sport', 'Family,Thriller', 'Adventure,Crime,Sport', 'Action,Documentary,Horror', 'Adventure,Biography,Comedy', 'Animation,Musical,News', 'Crime,Thriller', 'Romance,Short,Sport', 'Adventure,Fantasy,History', 'Reality-TV,Western', 'Action,Adventure,Thriller', 'Musical,Mystery,Sci-Fi', 'Biography,Music,Sci-Fi', 'Comedy,Documentary,Thriller', 'Adventure,Crime,War', 'Family,Game-Show,Sport', 'Action,Music,Romance', 'Crime,Documentary,Family', 'Drama,Family,Romance', 'Crime,History,Thriller', 'Action,Sci-Fi,Short', 'Adventure,Family,Western', 'Drama,Family,Sci-Fi', 'Horror,Thriller', 'Documentary,Fantasy,Sci-Fi', 'Crime,Documentary,Drama', 'Game-Show,Reality-TV,Romance', 'Adult,Crime,Talk-Show', 'Action,Film-Noir,Mystery', 'Crime,Film-Noir,Sport', 'Action,Crime,Family', 'Drama,News,Reality-TV', 'Animation,Comedy,Documentary', 'History,Sci-Fi,Talk-Show', 'Crime,Music', 'Comedy,Documentary,Western', 'Documentary,Family,Short', 'Biography,Comedy,Family', 'Animation,Drama,Fantasy', 'Drama,Fantasy,Film-Noir', 'Family,Musical,Sci-Fi', 'Crime,Drama,Music', 'Comedy,Musical,Reality-TV', 'Biography,Drama,Western', 'Music,Sci-Fi,Short', 'Adult,Horror,Romance', 'Action,Family,Thriller', 'Biography,Short,Western', 'Romance,Sci-Fi', 'Action,Comedy,Game-Show', 'Biography,Short,Talk-Show', 'Action,Fantasy,History', 'Action,Family,Fantasy', 'Adventure,Crime,Horror', 'Fantasy,Sci-Fi,War', 'Comedy,History,War', 'Comedy,Music,Mystery', 'Documentary,Romance,Short', 'Crime', 'Drama,Game-Show,Music', 'Biography,Family,Horror', 'Action,News,Sport', 'Crime,Family,Short', 'Horror,Short,Western', 'War,Western', 'Biography,Fantasy,History', 'Horror', 'Crime,Documentary,Romance', 'Animation,Documentary,Horror', 'Animation,Drama', 'Family,Game-Show,Horror', 'Comedy,Game-Show,News', 'History,Reality-TV,Thriller', 'Comedy,History,Romance', 'Crime,Short,Western', 'Fantasy,Short,Thriller', 'Family,History', 'Documentary,Game-Show', 'Drama,Film-Noir,Thriller', 'Music,Musical,Sci-Fi', 'Adventure,Fantasy,Reality-TV', 'Adventure,Documentary,Fantasy', 'Comedy,Horror,War', 'Fantasy,Romance,Sport', 'Crime,Romance,Thriller', 'Adult,Comedy,Documentary', 'News,Short,Sport', 'Adult,Fantasy,Western', 'Documentary,History,News', 'Reality-TV,Sport,Thriller', 'Action,Romance,War', 'Comedy,Mystery,Thriller', 'Animation,Sport', 'Horror,Mystery,News', 'Horror,Mystery,Western', 'Documentary,Family,Western', 'Drama,Horror,Sport', 'Crime,Documentary,Horror', 'Crime,Musical,Romance', 'Action,Family,History', 'Adventure,Game-Show,Reality-TV', 'Animation,Family,Game-Show', 'Adventure,Reality-TV,Sci-Fi', 'Family,Music,Musical', 'Documentary,Mystery,News', 'Comedy,Documentary,Fantasy', 'Documentary,Romance,War', 'Horror,Talk-Show', 'Adventure,Animation,Game-Show', 'Adventure,Documentary,Music', 'Crime,Documentary,History', 'Adult,Crime,Romance', 'Drama,Family,Fantasy', 'Drama,Sport,Western', 'History,News,Sci-Fi', 'Drama,Fantasy,Musical', 'Action,Reality-TV,War', 'Horror,Romance,Short', 'Crime,History,Mystery', 'Mystery,Sport', 'Adventure,Biography', 'Action,Animation,Crime', 'Adventure,Family,Sport', 'Animation,Drama,Sport', 'Adult,Sport', 'Music,Reality-TV,Short', 'Fantasy,Horror,Musical', 'Comedy,Drama,Thriller', 'Adventure,Horror,Thriller', 'Music,Musical,Short', 'Adventure,Game-Show,Sci-Fi', 'Crime,Horror,Music', 'Animation,Family,Sport', 'Documentary,Horror', 'Documentary,Musical,News', 'Horror,Reality-TV,Short', 'Action,Family,Musical', 'Adult,Documentary,Romance', 'Adventure,Thriller', 'Music,Mystery,Short', 'Family,Fantasy,Horror', 'Comedy,Mystery,Talk-Show', 'Adventure,History,Sport', 'Action,Reality-TV,Sport', 'Animation,Crime,Sci-Fi', 'Animation,Sci-Fi,Short', 'Action,Comedy,War', 'Crime,Music,Musical', 'Comedy,Crime,Family', 'Drama,Musical,Mystery', 'Action,Animation,Drama', 'History,Western', 'Action,Biography,Comedy', 'Documentary,Mystery,Thriller', 'Comedy,Music,Reality-TV', 'Biography,Fantasy,Romance', 'Documentary,History', 'Action,Documentary,Romance', 'Drama,Fantasy,Mystery', 'Comedy,History,Mystery', 'History,War', 'Crime,Horror,Sci-Fi', 'Adult,Short', 'Family,History,Horror', 'Adventure,Crime,Reality-TV', 'Music,Short,Thriller', 'Action,Adventure,History', 'Family,History,Romance', 'Action,Fantasy,Romance', 'Biography,Documentary,History', 'Comedy,Documentary,History', 'Biography,Drama', 'Animation,Biography,History', 'History,Mystery,Romance', 'Fantasy,News,Sci-Fi', 'Musical,Short', 'Action,Drama,Western', 'Crime,Drama', 'Action,Adventure,Short', 'Action,Biography,Reality-TV', 'Music,Romance,War', 'Adventure,Sci-Fi', 'Horror,Sci-Fi,Western', 'Comedy,Musical,Short', 'Mystery,Reality-TV', 'Biography,Drama,Family', 'Adventure,Comedy,Sport', 'Action,Documentary,Sport', 'Comedy,Mystery,Short', 'Documentary,Western', 'Sci-Fi,War', 'Documentary,Music,Sport', 'History,Mystery,Sci-Fi', 'Action,Short,War', 'Crime,History,Music', 'Adventure,Crime,Mystery', 'Family,Sci-Fi,Thriller', 'Biography,History', 'Action,Mystery,Western', 'Action,Biography', 'Crime,Fantasy,Horror', 'Action,Crime,Fantasy', 'Music,News,Reality-TV', 'Fantasy,Music', 'Action,Horror,Reality-TV', 'Comedy,Family,Horror', 'Comedy,Musical,Western', 'Adult,Documentary,Reality-TV', 'Adventure,Biography,Horror', 'Documentary,Horror,War', 'Animation,Thriller', 'Action,Documentary,Music', 'News,Sport', 'Fantasy,Horror,War', 'Comedy,History,Reality-TV', 'History,Romance,Thriller', 'Action,Drama,War', 'Comedy,Music,Short', 'Game-Show,Sport,Talk-Show', 'Comedy,Crime,Sci-Fi', 'Family,History,Short', 'Action,Documentary,Short', 'Animation,Family', 'Comedy,Musical,Sci-Fi', 'Adventure,Biography,Short', 'Drama,Film-Noir,Romance', 'Drama,Film-Noir', 'Documentary,Family,History', 'Horror,Mystery,Romance', 'Comedy,War,Western', 'Action,Crime,Music', 'Action,Adventure,Western', 'Drama,Sci-Fi', 'Family,Music', 'Crime,Horror,Romance', 'Fantasy,Music,Romance', 'History,Music,News', 'Action,Documentary,Fantasy', 'Biography,Mystery,Sci-Fi', 'Adult,Mystery,Thriller', 'Drama,Sci-Fi,Talk-Show', 'Comedy,Sci-Fi,Western', 'Comedy,Romance,Western', 'Adventure,Romance,War', 'Action,Crime,Thriller']\n"
     ]
    }
   ],
   "source": [
    "sql = \"Select DISTINCT (genres) from basics\"\n",
    " \n",
    "answer = askdb(sql,\"many\")\n",
    "print(f\"There is a total of {len(answer)} combinations of genres indicated. Here is the complete list:\")\n",
    "print(answer)"
   ]
  },
  {
   "cell_type": "markdown",
   "metadata": {},
   "source": [
    "### What percentage of movies is for adults"
   ]
  },
  {
   "cell_type": "code",
   "execution_count": 51,
   "metadata": {},
   "outputs": [
    {
     "name": "stdout",
     "output_type": "stream",
     "text": [
      "The percentage of adult movies in the database is 1.00%\n"
     ]
    }
   ],
   "source": [
    "sql = \"Select ROUND(COUNT(isAdult)/COUNT(*),2) from basics\"\n",
    "answer = askdb(sql)\n",
    "print(f\"The percentage of adult movies in the database is {answer}%\")"
   ]
  },
  {
   "cell_type": "markdown",
   "metadata": {},
   "source": [
    "### Statistics about duration"
   ]
  },
  {
   "cell_type": "code",
   "execution_count": 63,
   "metadata": {},
   "outputs": [
    {
     "name": "stdout",
     "output_type": "stream",
     "text": [
      "The average length of a movie is 44.05, while the median observed is 30. \n",
      "The movies duration in the dataset vary from 0 minutes to 51420 minutes.\n"
     ]
    }
   ],
   "source": [
    "sql = \"SELECT ROUND(AVG(runtimeMinutes),2), PERCENTILE_DISC(0.5) WITHIN GROUP(ORDER BY runtimeMinutes), MIN(runtimeMinutes),MAX(runtimeMinutes)  from basics\"\n",
    " \n",
    "answer = askdb(sql,\"row\")\n",
    "print(f\"The average length of a movie is {answer[0]}, while the median observed is {answer[1]}. \\nThe movies duration in the dataset vary from {answer[2]} minutes to {answer[3]} minutes.\")"
   ]
  },
  {
   "cell_type": "markdown",
   "metadata": {},
   "source": [
    "### Which entry is this damn longest movie?"
   ]
  },
  {
   "cell_type": "code",
   "execution_count": 64,
   "metadata": {
    "scrolled": true
   },
   "outputs": [
    {
     "name": "stdout",
     "output_type": "stream",
     "text": [
      "('tt8273150', 'movie', 'Logistics', 'Logistics', False, 2012, None, 51420, 'Documentary')\n"
     ]
    }
   ],
   "source": [
    "sql = \"SELECT primaryTitle,startYear from basics WHERE runtimeMinutes = 51420\"\n",
    "answer = askdb(sql,\"row\")\n",
    "print(f\"The longest movie's title is {answer[0]} and was released in {answer[1]}\")"
   ]
  },
  {
   "cell_type": "markdown",
   "metadata": {},
   "source": [
    "Side note, IMDB confirm in [the movie's trivia page](https://www.imdb.com/title/tt8273150/trivia?ref_=tt_trv_trv) that it is indeed the longest ever!"
   ]
  }
 ],
 "metadata": {
  "kernelspec": {
   "display_name": "Python 3",
   "language": "python",
   "name": "python3"
  },
  "language_info": {
   "codemirror_mode": {
    "name": "ipython",
    "version": 3
   },
   "file_extension": ".py",
   "mimetype": "text/x-python",
   "name": "python",
   "nbconvert_exporter": "python",
   "pygments_lexer": "ipython3",
   "version": "3.7.7"
  },
  "toc": {
   "base_numbering": 1,
   "nav_menu": {},
   "number_sections": true,
   "sideBar": true,
   "skip_h1_title": false,
   "title_cell": "Table of Contents",
   "title_sidebar": "Contents",
   "toc_cell": true,
   "toc_position": {
    "height": "calc(100% - 180px)",
    "left": "10px",
    "top": "150px",
    "width": "288px"
   },
   "toc_section_display": true,
   "toc_window_display": true
  }
 },
 "nbformat": 4,
 "nbformat_minor": 4
}
