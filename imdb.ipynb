{
 "cells": [
  {
   "cell_type": "markdown",
   "metadata": {
    "toc": true
   },
   "source": [
    "<h1>Table of Contents<span class=\"tocSkip\"></span></h1>\n",
    "<div class=\"toc\"><ul class=\"toc-item\"><li><span><a href=\"#Creation-of-Database\" data-toc-modified-id=\"Creation-of-Database-1\"><span class=\"toc-item-num\">1&nbsp;&nbsp;</span>Creation of Database</a></span></li><li><span><a href=\"#Creations-of-the-tables\" data-toc-modified-id=\"Creations-of-the-tables-2\"><span class=\"toc-item-num\">2&nbsp;&nbsp;</span>Creations of the tables</a></span><ul class=\"toc-item\"><li><span><a href=\"#Table-structure\" data-toc-modified-id=\"Table-structure-2.1\"><span class=\"toc-item-num\">2.1&nbsp;&nbsp;</span>Table structure</a></span></li><li><span><a href=\"#Table-basics\" data-toc-modified-id=\"Table-basics-2.2\"><span class=\"toc-item-num\">2.2&nbsp;&nbsp;</span>Table basics</a></span></li><li><span><a href=\"#table-ratings\" data-toc-modified-id=\"table-ratings-2.3\"><span class=\"toc-item-num\">2.3&nbsp;&nbsp;</span>table ratings</a></span></li><li><span><a href=\"#Inserting-the-data\" data-toc-modified-id=\"Inserting-the-data-2.4\"><span class=\"toc-item-num\">2.4&nbsp;&nbsp;</span>Inserting the data</a></span></li></ul></li><li><span><a href=\"#Playing-with-queries\" data-toc-modified-id=\"Playing-with-queries-3\"><span class=\"toc-item-num\">3&nbsp;&nbsp;</span>Playing with queries</a></span><ul class=\"toc-item\"><li><span><a href=\"#Function-to-ask-the-queries\" data-toc-modified-id=\"Function-to-ask-the-queries-3.1\"><span class=\"toc-item-num\">3.1&nbsp;&nbsp;</span>Function to ask the queries</a></span></li><li><span><a href=\"#Simple-queries\" data-toc-modified-id=\"Simple-queries-3.2\"><span class=\"toc-item-num\">3.2&nbsp;&nbsp;</span>Simple queries</a></span><ul class=\"toc-item\"><li><span><a href=\"#How-many-different-genre-combinations-are-there\" data-toc-modified-id=\"How-many-different-genre-combinations-are-there-3.2.1\"><span class=\"toc-item-num\">3.2.1&nbsp;&nbsp;</span>How many different genre combinations are there</a></span></li><li><span><a href=\"#What-percentage-of-movies-is-for-adults\" data-toc-modified-id=\"What-percentage-of-movies-is-for-adults-3.2.2\"><span class=\"toc-item-num\">3.2.2&nbsp;&nbsp;</span>What percentage of movies is for adults</a></span></li><li><span><a href=\"#Statistics-about-duration\" data-toc-modified-id=\"Statistics-about-duration-3.2.3\"><span class=\"toc-item-num\">3.2.3&nbsp;&nbsp;</span>Statistics about duration</a></span></li><li><span><a href=\"#Which-entry-is-this-damn-longest-movie?\" data-toc-modified-id=\"Which-entry-is-this-damn-longest-movie?-3.2.4\"><span class=\"toc-item-num\">3.2.4&nbsp;&nbsp;</span>Which entry is this damn longest movie?</a></span></li></ul></li></ul></li></ul></div>"
   ]
  },
  {
   "cell_type": "markdown",
   "metadata": {},
   "source": [
    "Personal project to practice with SQL request.\n",
    "\n",
    "Using 2 tsv files (the titles and the ratings) uploaded in a Database and then using various queries to gather details\n",
    "\n",
    "Information courtesy of\n",
    "IMDb\n",
    "(http://www.imdb.com).\n",
    "Used with permission."
   ]
  },
  {
   "cell_type": "code",
   "execution_count": 1,
   "metadata": {},
   "outputs": [],
   "source": [
    "import psycopg2\n",
    "\n",
    "from credentials import *"
   ]
  },
  {
   "cell_type": "markdown",
   "metadata": {},
   "source": [
    "Starting section 2, I realize I could improve the code by factoring the recurrent connection and closing to database, with the following class:"
   ]
  },
  {
   "cell_type": "code",
   "execution_count": 13,
   "metadata": {},
   "outputs": [],
   "source": [
    "class MyDB(object):\n",
    "\n",
    "    def __init__(self):\n",
    "        self._db_connection = psycopg2.connect(\n",
    "   database=\"postgres\", user=POSTGRESUSER, password=POSTGRESPWD, host='127.0.0.1', port= '5432'\n",
    ")\n",
    "        self.cursor = self._db_connection.cursor()\n",
    "\n",
    "    def __enter__(self):\n",
    "        return self\n",
    "    \n",
    "    def __del__(self):\n",
    "        self._db_connection.close()\n",
    "\n",
    "    def __exit__(self, exc_type, exc_val, exc_tb):\n",
    "        self.cursor.close()\n",
    "        self._db_connection.close()\n"
   ]
  },
  {
   "cell_type": "markdown",
   "metadata": {},
   "source": [
    "# Creation of Database"
   ]
  },
  {
   "cell_type": "code",
   "execution_count": 5,
   "metadata": {
    "collapsed": true
   },
   "outputs": [
    {
     "ename": "ActiveSqlTransaction",
     "evalue": "CREATE DATABASE cannot run inside a transaction block\n",
     "output_type": "error",
     "traceback": [
      "\u001b[0;31m---------------------------------------------------------------------------\u001b[0m",
      "\u001b[0;31mActiveSqlTransaction\u001b[0m                      Traceback (most recent call last)",
      "\u001b[0;32m<ipython-input-5-fa271299f886>\u001b[0m in \u001b[0;36m<module>\u001b[0;34m\u001b[0m\n\u001b[1;32m     11\u001b[0m \u001b[0;34m\u001b[0m\u001b[0m\n\u001b[1;32m     12\u001b[0m \u001b[0;31m#Creating a database\u001b[0m\u001b[0;34m\u001b[0m\u001b[0;34m\u001b[0m\u001b[0;34m\u001b[0m\u001b[0m\n\u001b[0;32m---> 13\u001b[0;31m \u001b[0mcursor\u001b[0m\u001b[0;34m.\u001b[0m\u001b[0mexecute\u001b[0m\u001b[0;34m(\u001b[0m\u001b[0msql\u001b[0m\u001b[0;34m)\u001b[0m\u001b[0;34m\u001b[0m\u001b[0;34m\u001b[0m\u001b[0m\n\u001b[0m\u001b[1;32m     14\u001b[0m \u001b[0mconn\u001b[0m\u001b[0;34m.\u001b[0m\u001b[0mcommit\u001b[0m\u001b[0;34m(\u001b[0m\u001b[0;34m)\u001b[0m\u001b[0;34m\u001b[0m\u001b[0;34m\u001b[0m\u001b[0m\n\u001b[1;32m     15\u001b[0m \u001b[0mprint\u001b[0m\u001b[0;34m(\u001b[0m\u001b[0;34m\"Database created successfully........\"\u001b[0m\u001b[0;34m)\u001b[0m\u001b[0;34m\u001b[0m\u001b[0;34m\u001b[0m\u001b[0m\n",
      "\u001b[0;31mActiveSqlTransaction\u001b[0m: CREATE DATABASE cannot run inside a transaction block\n"
     ]
    }
   ],
   "source": [
    "#establishing the connection\n",
    "conn = psycopg2.connect(\n",
    "   database=\"postgres\", user=POSTGRESUSER, password=POSTGRESPWD, host='127.0.0.1', port= '5432'\n",
    ")\n",
    "conn.autocommit = True\n",
    "\n",
    "#Creating a cursor object using the cursor() method\n",
    "cursor = conn.cursor()\n",
    "\n",
    "#Preparing query to create a database\n",
    "sql = '''CREATE database imdb''';\n",
    "\n",
    "#Creating a database\n",
    "cursor.execute(sql)\n",
    "print(\"Database created successfully........\")\n",
    "\n",
    "#Closing the connection\n",
    "conn.close()"
   ]
  },
  {
   "cell_type": "markdown",
   "metadata": {},
   "source": [
    "# Creations of the tables"
   ]
  },
  {
   "cell_type": "markdown",
   "metadata": {},
   "source": [
    "## Table structure"
   ]
  },
  {
   "cell_type": "markdown",
   "metadata": {},
   "source": [
    "Checking the structure from the tsv file, description also available from website: https://www.imdb.com/interfaces/"
   ]
  },
  {
   "cell_type": "code",
   "execution_count": 3,
   "metadata": {
    "scrolled": false
   },
   "outputs": [
    {
     "name": "stdout",
     "output_type": "stream",
     "text": [
      "tconst\ttitleType\tprimaryTitle\toriginalTitle\tisAdult\tstartYear\tendYear\truntimeMinutes\tgenres\r\n",
      "tt0000001\tshort\tCarmencita\tCarmencita\t0\t1894\t\\N\t1\tDocumentary,Short\r\n",
      "tt0000002\tshort\tLe clown et ses chiens\tLe clown et ses chiens\t0\t1892\t\\N\t5\tAnimation,Short\r\n"
     ]
    }
   ],
   "source": [
    "!head -3 data/title.basics.tsv"
   ]
  },
  {
   "cell_type": "code",
   "execution_count": 45,
   "metadata": {},
   "outputs": [
    {
     "name": "stdout",
     "output_type": "stream",
     "text": [
      "tconst\taverageRating\tnumVotes\r\n",
      "tt0000001\t5.7\t1690\r\n",
      "tt0000002\t6.0\t210\r\n"
     ]
    }
   ],
   "source": [
    "!head -3 data/title.ratings.tsv"
   ]
  },
  {
   "cell_type": "markdown",
   "metadata": {},
   "source": [
    "## Table basics"
   ]
  },
  {
   "cell_type": "code",
   "execution_count": 6,
   "metadata": {
    "collapsed": true
   },
   "outputs": [
    {
     "ename": "DuplicateTable",
     "evalue": "relation \"basics\" already exists\n",
     "output_type": "error",
     "traceback": [
      "\u001b[0;31m---------------------------------------------------------------------------\u001b[0m",
      "\u001b[0;31mDuplicateTable\u001b[0m                            Traceback (most recent call last)",
      "\u001b[0;32m<ipython-input-6-763cb43c6e14>\u001b[0m in \u001b[0;36m<module>\u001b[0;34m\u001b[0m\n\u001b[1;32m     23\u001b[0m \u001b[0;34m\u001b[0m\u001b[0m\n\u001b[1;32m     24\u001b[0m \u001b[0;31m#Creating a database\u001b[0m\u001b[0;34m\u001b[0m\u001b[0;34m\u001b[0m\u001b[0;34m\u001b[0m\u001b[0m\n\u001b[0;32m---> 25\u001b[0;31m \u001b[0mcursor\u001b[0m\u001b[0;34m.\u001b[0m\u001b[0mexecute\u001b[0m\u001b[0;34m(\u001b[0m\u001b[0msql\u001b[0m\u001b[0;34m)\u001b[0m\u001b[0;34m\u001b[0m\u001b[0;34m\u001b[0m\u001b[0m\n\u001b[0m\u001b[1;32m     26\u001b[0m \u001b[0;34m\u001b[0m\u001b[0m\n\u001b[1;32m     27\u001b[0m \u001b[0mconn\u001b[0m\u001b[0;34m.\u001b[0m\u001b[0mcommit\u001b[0m\u001b[0;34m(\u001b[0m\u001b[0;34m)\u001b[0m\u001b[0;34m\u001b[0m\u001b[0;34m\u001b[0m\u001b[0m\n",
      "\u001b[0;31mDuplicateTable\u001b[0m: relation \"basics\" already exists\n"
     ]
    }
   ],
   "source": [
    "#establishing the connection\n",
    "conn = psycopg2.connect(\n",
    "   database=\"postgres\", user=POSTGRESUSER, password=POSTGRESPWD, host='127.0.0.1', port= '5432'\n",
    ")\n",
    "\n",
    "\n",
    "#Creating a cursor object using the cursor() method\n",
    "cursor = conn.cursor()\n",
    "\n",
    "#Preparing query to create a database\n",
    "sql = '''CREATE TABLE basics(\n",
    "    tconst CHAR (9) PRIMARY KEY,\n",
    "    titleType TEXT,\n",
    "    primaryTitle TEXT,\n",
    "    originalTitle TEXT,\n",
    "    isAdult BOOLEAN,\n",
    "    startYear SMALLINT,\n",
    "    endYear SMALLINT,\n",
    "    runtimeMinutes SMALLINT,\n",
    "    genres TEXT\n",
    "    )        \n",
    "        ''';\n",
    "\n",
    "#Creating a database\n",
    "cursor.execute(sql)\n",
    "\n",
    "conn.commit()\n",
    "print(\"Table created successfully........\")\n",
    "\n",
    "#Closing the connection\n",
    "conn.close()"
   ]
  },
  {
   "cell_type": "markdown",
   "metadata": {},
   "source": [
    "Checking if table is created in DB and try the class at the same occasion"
   ]
  },
  {
   "cell_type": "code",
   "execution_count": 19,
   "metadata": {
    "scrolled": false
   },
   "outputs": [
    {
     "name": "stdout",
     "output_type": "stream",
     "text": [
      "[('basics',), ('ratings',)]\n"
     ]
    }
   ],
   "source": [
    "query = \"\"\"SELECT table_name\n",
    "  FROM information_schema.tables\n",
    " WHERE table_schema='public'\n",
    "   AND table_type='BASE TABLE';\"\"\"\n",
    "\n",
    "\n",
    "with MyDB() as my_db:\n",
    "    cursor = my_db.cursor\n",
    "    cursor.execute(query)\n",
    "    results = cursor.fetchall()\n",
    "    print(results)"
   ]
  },
  {
   "cell_type": "markdown",
   "metadata": {},
   "source": [
    "Adding a try / except block to catch errors"
   ]
  },
  {
   "cell_type": "code",
   "execution_count": 16,
   "metadata": {
    "collapsed": true
   },
   "outputs": [
    {
     "name": "stdout",
     "output_type": "stream",
     "text": [
      "The following error was raised:\n",
      "name 'sql' is not defined\n"
     ]
    }
   ],
   "source": [
    "with MyDB() as my_db:\n",
    "    try:\n",
    "        cursor = my_db.cursor\n",
    "        cursor.execute(sql)\n",
    "        my_db._db_connection.commit()\n",
    "    except Exception as err:\n",
    "        print(f\"The following error was raised:\\n{err}\")"
   ]
  },
  {
   "cell_type": "markdown",
   "metadata": {},
   "source": [
    "Fixing type for the column Primary key. Turns out some values have more that 9 characters, swithcing to a generic varchar"
   ]
  },
  {
   "cell_type": "code",
   "execution_count": 21,
   "metadata": {},
   "outputs": [],
   "source": [
    "fix_column_basics = \"\"\"ALTER TABLE basics\n",
    "ALTER COLUMN tconst\n",
    "TYPE VARCHAR\n",
    "\"\"\"\n",
    "\n",
    "\n",
    "with MyDB() as my_db:\n",
    "    try:\n",
    "        cursor = my_db.cursor\n",
    "        cursor.execute(fix_column_basics)\n",
    "        my_db._db_connection.commit()\n",
    "    except Exception as err:\n",
    "        print(f\"The following error was raised:\\n{err}\")"
   ]
  },
  {
   "cell_type": "markdown",
   "metadata": {},
   "source": [
    "Fixing type for the column runtime minutes as one entry is longer than a smallint. Turns out some values have more that 9 characters, swithcing to a generic varchar"
   ]
  },
  {
   "cell_type": "code",
   "execution_count": 27,
   "metadata": {},
   "outputs": [
    {
     "name": "stdout",
     "output_type": "stream",
     "text": [
      "column type changed\n"
     ]
    }
   ],
   "source": [
    "fix_column_basics_runtime = \"\"\"ALTER TABLE basics\n",
    "ALTER COLUMN runtimeMinutes\n",
    "TYPE INTEGER\n",
    "\"\"\"\n",
    "\n",
    "\n",
    "with MyDB() as my_db:\n",
    "    try:\n",
    "        cursor = my_db.cursor\n",
    "        cursor.execute(fix_column_basics_runtime)\n",
    "        my_db._db_connection.commit()\n",
    "        print(\"column type changed\")\n",
    "    except Exception as err:\n",
    "        print(f\"The following error was raised:\\n{err}\")"
   ]
  },
  {
   "cell_type": "markdown",
   "metadata": {},
   "source": [
    "## table ratings"
   ]
  },
  {
   "cell_type": "code",
   "execution_count": 18,
   "metadata": {},
   "outputs": [],
   "source": [
    "query_table_ratings = '''CREATE TABLE ratings(\n",
    "    tconst CHAR (9) PRIMARY KEY,\n",
    "    averageRating NUMERIC (3,1),\n",
    "    numVotes INTEGER\n",
    "    );        \n",
    "        '''\n",
    "\n",
    "with MyDB() as my_db:\n",
    "    try:\n",
    "        cursor = my_db.cursor\n",
    "        cursor.execute(query_table_ratings)\n",
    "        my_db._db_connection.commit()\n",
    "    except Exception as err:\n",
    "        print(f\"The following error was raised:\\n{err}\")"
   ]
  },
  {
   "cell_type": "markdown",
   "metadata": {},
   "source": [
    "Fixing type for the column Primary key. Turns out some values have more that 9 characters, swithcing to a generic varchar"
   ]
  },
  {
   "cell_type": "code",
   "execution_count": 22,
   "metadata": {},
   "outputs": [
    {
     "name": "stdout",
     "output_type": "stream",
     "text": [
      "Operation done\n"
     ]
    }
   ],
   "source": [
    "fix_column_basics = \"\"\"ALTER TABLE ratings\n",
    "ALTER COLUMN tconst\n",
    "TYPE VARCHAR\n",
    "\"\"\"\n",
    "\n",
    "\n",
    "with MyDB() as my_db:\n",
    "    try:\n",
    "        cursor = my_db.cursor\n",
    "        cursor.execute(fix_column_basics)\n",
    "        my_db._db_connection.commit()\n",
    "        print(\"Operation done\")\n",
    "    except Exception as err:\n",
    "        print(f\"The following error was raised:\\n{err}\")"
   ]
  },
  {
   "cell_type": "markdown",
   "metadata": {},
   "source": [
    "## Inserting the data"
   ]
  },
  {
   "cell_type": "code",
   "execution_count": 23,
   "metadata": {
    "scrolled": true
   },
   "outputs": [],
   "source": [
    "with MyDB() as my_db:\n",
    "    try:\n",
    "        cursor = my_db.cursor\n",
    "        with open('data/title.ratings.tsv', 'r') as f:\n",
    "            next(f) # Skip the header row.\n",
    "            cursor.copy_from(f, 'ratings', sep='\\t')\n",
    "        my_db._db_connection.commit()\n",
    "    except Exception as err:\n",
    "        print(f\"The following error was raised:\\n{err}\")"
   ]
  },
  {
   "cell_type": "code",
   "execution_count": 28,
   "metadata": {},
   "outputs": [
    {
     "name": "stdout",
     "output_type": "stream",
     "text": [
      "Data imported\n"
     ]
    }
   ],
   "source": [
    "with MyDB() as my_db:\n",
    "    try:\n",
    "        cursor = my_db.cursor\n",
    "        with open('data/title.basics.tsv', 'r') as f:\n",
    "            next(f) # Skip the header row.\n",
    "            cursor.copy_from(f, 'basics', sep='\\t')\n",
    "        my_db._db_connection.commit()\n",
    "        print(\"Data imported\")\n",
    "    except Exception as err:\n",
    "        print(f\"The following error was raised:\\n{err}\")"
   ]
  },
  {
   "cell_type": "markdown",
   "metadata": {},
   "source": [
    "# Playing with queries"
   ]
  },
  {
   "cell_type": "markdown",
   "metadata": {},
   "source": [
    "## Function to ask the queries"
   ]
  },
  {
   "cell_type": "code",
   "execution_count": 59,
   "metadata": {},
   "outputs": [],
   "source": [
    "def askdb(query,output=1):\n",
    "    with MyDB() as my_db:\n",
    "        try:\n",
    "            cursor = my_db.cursor\n",
    "            cursor.execute(query)\n",
    "            if output == 1 :\n",
    "                #When asking one single value\n",
    "                result = cursor.fetchone()[0]\n",
    "            elif output == \"row\":\n",
    "                #Asking for several values but on a single row result\n",
    "                result = cursor.fetchone()\n",
    "            else:\n",
    "                #When many lines are expected\n",
    "                result = [r[0] for r in cursor.fetchall()]\n",
    "            return result\n",
    "        except Exception as err:\n",
    "            print(f\"The following error was raised:\\n{err}\")"
   ]
  },
  {
   "cell_type": "markdown",
   "metadata": {},
   "source": [
    "Testing default setting with one answer expected"
   ]
  },
  {
   "cell_type": "code",
   "execution_count": 38,
   "metadata": {},
   "outputs": [
    {
     "name": "stdout",
     "output_type": "stream",
     "text": [
      "1132236\n"
     ]
    }
   ],
   "source": [
    "sql = \"Select COUNT(*) from ratings\"\n",
    " \n",
    "answer = askdb(sql)\n",
    "print(answer)"
   ]
  },
  {
   "cell_type": "markdown",
   "metadata": {},
   "source": [
    "Testing with multiple answers expected"
   ]
  },
  {
   "cell_type": "code",
   "execution_count": 44,
   "metadata": {
    "scrolled": false
   },
   "outputs": [
    {
     "name": "stdout",
     "output_type": "stream",
     "text": [
      "[1959, 1907, 2021, 1964, 1969, None, 1889, 1991, 1989, 1974, 1977, 1971, 1935, 1898, 2022, 2017, 1983, 1899, 1891, 2009, 1958, 1973, 2013, 2003, 1933, 1953, 1903, 1892, 1912, 1997, 1905, 1883, 1897, 1894, 2016, 2018, 1874, 1994, 1963, 2014, 1928, 2025, 1924, 1987, 1878, 2000, 1948, 1932, 1985, 1908, 1941, 2115, 1947, 1938, 1925, 1911, 1895, 1906, 1960, 1951, 1915, 1981, 1966, 1916, 1978, 1968, 1944, 2006, 2020, 1962, 1926, 1923, 2012, 1954, 2024, 1988, 1896, 2008, 1945, 1943, 1956, 1940, 1890, 2028, 1984, 1934, 2005, 1913, 1885, 1914, 1904, 2015, 1990, 1930, 1993, 2002, 1979, 2026, 2004, 1980, 1919, 1922, 1975, 1986, 1970, 1921, 1936, 1982, 1901, 1942, 1995, 1992, 2023, 1920, 2010, 1887, 1939, 2019, 1996, 1931, 1967, 2027, 2011, 1965, 1909, 1949, 1881, 1888, 1918, 1946, 1917, 1998, 1976, 1972, 2007, 1929, 1927, 1902, 1961, 1952, 2001, 1893, 1910, 1999, 1950, 1955, 1957, 1937, 1900]\n"
     ]
    }
   ],
   "source": [
    "sql = \"Select DISTINCT (startYear) from basics\"\n",
    " \n",
    "answer = askdb(sql,\"many\")\n",
    "print(answer)"
   ]
  },
  {
   "cell_type": "markdown",
   "metadata": {},
   "source": [
    "## Simple queries"
   ]
  },
  {
   "cell_type": "markdown",
   "metadata": {},
   "source": [
    "### How many different genre combinations are there"
   ]
  },
  {
   "cell_type": "code",
   "execution_count": 65,
   "metadata": {
    "scrolled": true
   },
   "outputs": [
    {
     "name": "stdout",
     "output_type": "stream",
     "text": [
      "There is a total of 2276 combinations of genres indicated.\n"
     ]
    }
   ],
   "source": [
    "sql = \"Select DISTINCT (genres) from basics\"\n",
    " \n",
    "answer = askdb(sql,\"many\")\n",
    "print(f\"There is a total of {len(answer)} combinations of genres indicated.\")\n",
    "#print(answer) List hidded as really long"
   ]
  },
  {
   "cell_type": "markdown",
   "metadata": {},
   "source": [
    "### What percentage of movies is for adults"
   ]
  },
  {
   "cell_type": "code",
   "execution_count": 51,
   "metadata": {},
   "outputs": [
    {
     "name": "stdout",
     "output_type": "stream",
     "text": [
      "The percentage of adult movies in the database is 1.00%\n"
     ]
    }
   ],
   "source": [
    "sql = \"Select ROUND(COUNT(isAdult)/COUNT(*),2) from basics\"\n",
    "answer = askdb(sql)\n",
    "print(f\"The percentage of adult movies in the database is {answer}%\")"
   ]
  },
  {
   "cell_type": "markdown",
   "metadata": {},
   "source": [
    "### Statistics about duration"
   ]
  },
  {
   "cell_type": "code",
   "execution_count": 63,
   "metadata": {},
   "outputs": [
    {
     "name": "stdout",
     "output_type": "stream",
     "text": [
      "The average length of a movie is 44.05, while the median observed is 30. \n",
      "The movies duration in the dataset vary from 0 minutes to 51420 minutes.\n"
     ]
    }
   ],
   "source": [
    "sql = \"SELECT ROUND(AVG(runtimeMinutes),2), PERCENTILE_DISC(0.5) WITHIN GROUP(ORDER BY runtimeMinutes), MIN(runtimeMinutes),MAX(runtimeMinutes)  from basics\"\n",
    " \n",
    "answer = askdb(sql,\"row\")\n",
    "print(f\"The average length of a movie is {answer[0]}, while the median observed is {answer[1]}. \\nThe movies duration in the dataset vary from {answer[2]} minutes to {answer[3]} minutes.\")"
   ]
  },
  {
   "cell_type": "markdown",
   "metadata": {},
   "source": [
    "### Which entry is this damn longest movie?"
   ]
  },
  {
   "cell_type": "code",
   "execution_count": 66,
   "metadata": {
    "scrolled": true
   },
   "outputs": [
    {
     "name": "stdout",
     "output_type": "stream",
     "text": [
      "The longest movie's title is Logistics and was released in 2012\n"
     ]
    }
   ],
   "source": [
    "sql = \"SELECT primaryTitle,startYear from basics WHERE runtimeMinutes = 51420\"\n",
    "answer = askdb(sql,\"row\")\n",
    "print(f\"The longest movie's title is {answer[0]} and was released in {answer[1]}\")"
   ]
  },
  {
   "cell_type": "markdown",
   "metadata": {},
   "source": [
    "Side note, IMDB confirm in [the movie's trivia page](https://www.imdb.com/title/tt8273150/trivia?ref_=tt_trv_trv) that it is indeed the longest ever!"
   ]
  }
 ],
 "metadata": {
  "kernelspec": {
   "display_name": "Python 3",
   "language": "python",
   "name": "python3"
  },
  "language_info": {
   "codemirror_mode": {
    "name": "ipython",
    "version": 3
   },
   "file_extension": ".py",
   "mimetype": "text/x-python",
   "name": "python",
   "nbconvert_exporter": "python",
   "pygments_lexer": "ipython3",
   "version": "3.7.7"
  },
  "toc": {
   "base_numbering": 1,
   "nav_menu": {},
   "number_sections": true,
   "sideBar": true,
   "skip_h1_title": false,
   "title_cell": "Table of Contents",
   "title_sidebar": "Contents",
   "toc_cell": true,
   "toc_position": {
    "height": "calc(100% - 180px)",
    "left": "10px",
    "top": "150px",
    "width": "288px"
   },
   "toc_section_display": true,
   "toc_window_display": true
  }
 },
 "nbformat": 4,
 "nbformat_minor": 4
}
